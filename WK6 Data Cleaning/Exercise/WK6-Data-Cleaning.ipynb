{
 "cells": [
  {
   "cell_type": "markdown",
   "metadata": {},
   "source": [
    "# WK6 Data Cleaning <hr style = \"border: 2.5px solid #126782\"></hr>"
   ]
  },
  {
   "cell_type": "markdown",
   "metadata": {},
   "source": [
    "Name: **Pia Mae D. Tolentino** <br>\n",
    "Course and Section: **BSCpE-2A**"
   ]
  },
  {
   "cell_type": "markdown",
   "metadata": {},
   "source": [
    "Import **pandas**, **numpy**, and **matplotlib** library."
   ]
  },
  {
   "cell_type": "code",
   "execution_count": 44,
   "metadata": {},
   "outputs": [],
   "source": [
    "import pandas as pd\n",
    "import numpy as np\n",
    "import matplotlib.pyplot as plt"
   ]
  },
  {
   "cell_type": "markdown",
   "metadata": {},
   "source": [
    "## Overview of the Dataset"
   ]
  },
  {
   "cell_type": "markdown",
   "metadata": {},
   "source": [
    "Load the \"**chip-dataset.csv**\". <br>\n",
    "**r** - stands for *raw string*. <br>\n",
    "It tells the Python to treat the string literally (backslashes ( \\ ) are not interpreted as escape characters)."
   ]
  },
  {
   "cell_type": "code",
   "execution_count": 45,
   "metadata": {},
   "outputs": [
    {
     "name": "stdout",
     "output_type": "stream",
     "text": [
      "<class 'pandas.core.frame.DataFrame'>\n",
      "RangeIndex: 4854 entries, 0 to 4853\n",
      "Data columns (total 14 columns):\n",
      " #   Column                 Non-Null Count  Dtype  \n",
      "---  ------                 --------------  -----  \n",
      " 0   Unnamed: 0             4854 non-null   int64  \n",
      " 1   Product                4854 non-null   object \n",
      " 2   Type                   4854 non-null   object \n",
      " 3   Release Date           4854 non-null   object \n",
      " 4   Process Size (nm)      4845 non-null   float64\n",
      " 5   TDP (W)                4228 non-null   float64\n",
      " 6   Die Size (mm^2)        4139 non-null   float64\n",
      " 7   Transistors (million)  4143 non-null   float64\n",
      " 8   Freq (MHz)             4854 non-null   int64  \n",
      " 9   Foundry                4854 non-null   object \n",
      " 10  Vendor                 4854 non-null   object \n",
      " 11  FP16 GFLOPS            536 non-null    float64\n",
      " 12  FP32 GFLOPS            1948 non-null   float64\n",
      " 13  FP64 GFLOPS            1306 non-null   float64\n",
      "dtypes: float64(7), int64(2), object(5)\n",
      "memory usage: 531.0+ KB\n"
     ]
    }
   ],
   "source": [
    "df = pd.read_csv(r\"..\\raw\\chip-dataset.csv\",\n",
    "                 delimiter = \",\")\n",
    "df.info()"
   ]
  },
  {
   "cell_type": "markdown",
   "metadata": {},
   "source": [
    "Display an **overview** of the dataset."
   ]
  },
  {
   "cell_type": "code",
   "execution_count": 46,
   "metadata": {},
   "outputs": [
    {
     "data": {
      "text/html": [
       "<div>\n",
       "<style scoped>\n",
       "    .dataframe tbody tr th:only-of-type {\n",
       "        vertical-align: middle;\n",
       "    }\n",
       "\n",
       "    .dataframe tbody tr th {\n",
       "        vertical-align: top;\n",
       "    }\n",
       "\n",
       "    .dataframe thead th {\n",
       "        text-align: right;\n",
       "    }\n",
       "</style>\n",
       "<table border=\"1\" class=\"dataframe\">\n",
       "  <thead>\n",
       "    <tr style=\"text-align: right;\">\n",
       "      <th></th>\n",
       "      <th>Unnamed: 0</th>\n",
       "      <th>Product</th>\n",
       "      <th>Type</th>\n",
       "      <th>Release Date</th>\n",
       "      <th>Process Size (nm)</th>\n",
       "      <th>TDP (W)</th>\n",
       "      <th>Die Size (mm^2)</th>\n",
       "      <th>Transistors (million)</th>\n",
       "      <th>Freq (MHz)</th>\n",
       "      <th>Foundry</th>\n",
       "      <th>Vendor</th>\n",
       "      <th>FP16 GFLOPS</th>\n",
       "      <th>FP32 GFLOPS</th>\n",
       "      <th>FP64 GFLOPS</th>\n",
       "    </tr>\n",
       "  </thead>\n",
       "  <tbody>\n",
       "    <tr>\n",
       "      <th>0</th>\n",
       "      <td>0</td>\n",
       "      <td>AMD Athlon 64 3500+</td>\n",
       "      <td>CPU</td>\n",
       "      <td>2/20/2007</td>\n",
       "      <td>65.0</td>\n",
       "      <td>45.0</td>\n",
       "      <td>77.0</td>\n",
       "      <td>122.0</td>\n",
       "      <td>2200</td>\n",
       "      <td>Unknown</td>\n",
       "      <td>AMD</td>\n",
       "      <td>NaN</td>\n",
       "      <td>NaN</td>\n",
       "      <td>NaN</td>\n",
       "    </tr>\n",
       "    <tr>\n",
       "      <th>1</th>\n",
       "      <td>1</td>\n",
       "      <td>AMD Athlon 200GE</td>\n",
       "      <td>CPU</td>\n",
       "      <td>9/6/2018</td>\n",
       "      <td>14.0</td>\n",
       "      <td>35.0</td>\n",
       "      <td>192.0</td>\n",
       "      <td>4800.0</td>\n",
       "      <td>3200</td>\n",
       "      <td>Unknown</td>\n",
       "      <td>AMD</td>\n",
       "      <td>NaN</td>\n",
       "      <td>NaN</td>\n",
       "      <td>NaN</td>\n",
       "    </tr>\n",
       "    <tr>\n",
       "      <th>2</th>\n",
       "      <td>2</td>\n",
       "      <td>Intel Core i5-1145G7</td>\n",
       "      <td>CPU</td>\n",
       "      <td>9/2/2020</td>\n",
       "      <td>10.0</td>\n",
       "      <td>28.0</td>\n",
       "      <td>NaN</td>\n",
       "      <td>NaN</td>\n",
       "      <td>2600</td>\n",
       "      <td>Intel</td>\n",
       "      <td>Intel</td>\n",
       "      <td>NaN</td>\n",
       "      <td>NaN</td>\n",
       "      <td>NaN</td>\n",
       "    </tr>\n",
       "    <tr>\n",
       "      <th>3</th>\n",
       "      <td>3</td>\n",
       "      <td>Intel Xeon E5-2603 v2</td>\n",
       "      <td>CPU</td>\n",
       "      <td>9/1/2013</td>\n",
       "      <td>22.0</td>\n",
       "      <td>80.0</td>\n",
       "      <td>160.0</td>\n",
       "      <td>1400.0</td>\n",
       "      <td>1800</td>\n",
       "      <td>Intel</td>\n",
       "      <td>Intel</td>\n",
       "      <td>NaN</td>\n",
       "      <td>NaN</td>\n",
       "      <td>NaN</td>\n",
       "    </tr>\n",
       "    <tr>\n",
       "      <th>4</th>\n",
       "      <td>4</td>\n",
       "      <td>AMD Phenom II X4 980 BE</td>\n",
       "      <td>CPU</td>\n",
       "      <td>5/3/2011</td>\n",
       "      <td>45.0</td>\n",
       "      <td>125.0</td>\n",
       "      <td>258.0</td>\n",
       "      <td>758.0</td>\n",
       "      <td>3700</td>\n",
       "      <td>Unknown</td>\n",
       "      <td>AMD</td>\n",
       "      <td>NaN</td>\n",
       "      <td>NaN</td>\n",
       "      <td>NaN</td>\n",
       "    </tr>\n",
       "  </tbody>\n",
       "</table>\n",
       "</div>"
      ],
      "text/plain": [
       "   Unnamed: 0                  Product Type Release Date  Process Size (nm)  \\\n",
       "0           0      AMD Athlon 64 3500+  CPU    2/20/2007               65.0   \n",
       "1           1         AMD Athlon 200GE  CPU     9/6/2018               14.0   \n",
       "2           2     Intel Core i5-1145G7  CPU     9/2/2020               10.0   \n",
       "3           3    Intel Xeon E5-2603 v2  CPU     9/1/2013               22.0   \n",
       "4           4  AMD Phenom II X4 980 BE  CPU     5/3/2011               45.0   \n",
       "\n",
       "   TDP (W)  Die Size (mm^2)  Transistors (million)  Freq (MHz)  Foundry  \\\n",
       "0     45.0             77.0                  122.0        2200  Unknown   \n",
       "1     35.0            192.0                 4800.0        3200  Unknown   \n",
       "2     28.0              NaN                    NaN        2600    Intel   \n",
       "3     80.0            160.0                 1400.0        1800    Intel   \n",
       "4    125.0            258.0                  758.0        3700  Unknown   \n",
       "\n",
       "  Vendor  FP16 GFLOPS  FP32 GFLOPS  FP64 GFLOPS  \n",
       "0    AMD          NaN          NaN          NaN  \n",
       "1    AMD          NaN          NaN          NaN  \n",
       "2  Intel          NaN          NaN          NaN  \n",
       "3  Intel          NaN          NaN          NaN  \n",
       "4    AMD          NaN          NaN          NaN  "
      ]
     },
     "execution_count": 46,
     "metadata": {},
     "output_type": "execute_result"
    }
   ],
   "source": [
    "df.head()"
   ]
  },
  {
   "cell_type": "markdown",
   "metadata": {},
   "source": [
    "**Drop** the first column."
   ]
  },
  {
   "cell_type": "code",
   "execution_count": 47,
   "metadata": {},
   "outputs": [
    {
     "data": {
      "text/html": [
       "<div>\n",
       "<style scoped>\n",
       "    .dataframe tbody tr th:only-of-type {\n",
       "        vertical-align: middle;\n",
       "    }\n",
       "\n",
       "    .dataframe tbody tr th {\n",
       "        vertical-align: top;\n",
       "    }\n",
       "\n",
       "    .dataframe thead th {\n",
       "        text-align: right;\n",
       "    }\n",
       "</style>\n",
       "<table border=\"1\" class=\"dataframe\">\n",
       "  <thead>\n",
       "    <tr style=\"text-align: right;\">\n",
       "      <th></th>\n",
       "      <th>Product</th>\n",
       "      <th>Type</th>\n",
       "      <th>Release Date</th>\n",
       "      <th>Process Size (nm)</th>\n",
       "      <th>TDP (W)</th>\n",
       "      <th>Die Size (mm^2)</th>\n",
       "      <th>Transistors (million)</th>\n",
       "      <th>Freq (MHz)</th>\n",
       "      <th>Foundry</th>\n",
       "      <th>Vendor</th>\n",
       "      <th>FP16 GFLOPS</th>\n",
       "      <th>FP32 GFLOPS</th>\n",
       "      <th>FP64 GFLOPS</th>\n",
       "    </tr>\n",
       "  </thead>\n",
       "  <tbody>\n",
       "    <tr>\n",
       "      <th>0</th>\n",
       "      <td>AMD Athlon 64 3500+</td>\n",
       "      <td>CPU</td>\n",
       "      <td>2/20/2007</td>\n",
       "      <td>65.0</td>\n",
       "      <td>45.0</td>\n",
       "      <td>77.0</td>\n",
       "      <td>122.0</td>\n",
       "      <td>2200</td>\n",
       "      <td>Unknown</td>\n",
       "      <td>AMD</td>\n",
       "      <td>NaN</td>\n",
       "      <td>NaN</td>\n",
       "      <td>NaN</td>\n",
       "    </tr>\n",
       "    <tr>\n",
       "      <th>1</th>\n",
       "      <td>AMD Athlon 200GE</td>\n",
       "      <td>CPU</td>\n",
       "      <td>9/6/2018</td>\n",
       "      <td>14.0</td>\n",
       "      <td>35.0</td>\n",
       "      <td>192.0</td>\n",
       "      <td>4800.0</td>\n",
       "      <td>3200</td>\n",
       "      <td>Unknown</td>\n",
       "      <td>AMD</td>\n",
       "      <td>NaN</td>\n",
       "      <td>NaN</td>\n",
       "      <td>NaN</td>\n",
       "    </tr>\n",
       "    <tr>\n",
       "      <th>2</th>\n",
       "      <td>Intel Core i5-1145G7</td>\n",
       "      <td>CPU</td>\n",
       "      <td>9/2/2020</td>\n",
       "      <td>10.0</td>\n",
       "      <td>28.0</td>\n",
       "      <td>NaN</td>\n",
       "      <td>NaN</td>\n",
       "      <td>2600</td>\n",
       "      <td>Intel</td>\n",
       "      <td>Intel</td>\n",
       "      <td>NaN</td>\n",
       "      <td>NaN</td>\n",
       "      <td>NaN</td>\n",
       "    </tr>\n",
       "    <tr>\n",
       "      <th>3</th>\n",
       "      <td>Intel Xeon E5-2603 v2</td>\n",
       "      <td>CPU</td>\n",
       "      <td>9/1/2013</td>\n",
       "      <td>22.0</td>\n",
       "      <td>80.0</td>\n",
       "      <td>160.0</td>\n",
       "      <td>1400.0</td>\n",
       "      <td>1800</td>\n",
       "      <td>Intel</td>\n",
       "      <td>Intel</td>\n",
       "      <td>NaN</td>\n",
       "      <td>NaN</td>\n",
       "      <td>NaN</td>\n",
       "    </tr>\n",
       "    <tr>\n",
       "      <th>4</th>\n",
       "      <td>AMD Phenom II X4 980 BE</td>\n",
       "      <td>CPU</td>\n",
       "      <td>5/3/2011</td>\n",
       "      <td>45.0</td>\n",
       "      <td>125.0</td>\n",
       "      <td>258.0</td>\n",
       "      <td>758.0</td>\n",
       "      <td>3700</td>\n",
       "      <td>Unknown</td>\n",
       "      <td>AMD</td>\n",
       "      <td>NaN</td>\n",
       "      <td>NaN</td>\n",
       "      <td>NaN</td>\n",
       "    </tr>\n",
       "  </tbody>\n",
       "</table>\n",
       "</div>"
      ],
      "text/plain": [
       "                   Product Type Release Date  Process Size (nm)  TDP (W)  \\\n",
       "0      AMD Athlon 64 3500+  CPU    2/20/2007               65.0     45.0   \n",
       "1         AMD Athlon 200GE  CPU     9/6/2018               14.0     35.0   \n",
       "2     Intel Core i5-1145G7  CPU     9/2/2020               10.0     28.0   \n",
       "3    Intel Xeon E5-2603 v2  CPU     9/1/2013               22.0     80.0   \n",
       "4  AMD Phenom II X4 980 BE  CPU     5/3/2011               45.0    125.0   \n",
       "\n",
       "   Die Size (mm^2)  Transistors (million)  Freq (MHz)  Foundry Vendor  \\\n",
       "0             77.0                  122.0        2200  Unknown    AMD   \n",
       "1            192.0                 4800.0        3200  Unknown    AMD   \n",
       "2              NaN                    NaN        2600    Intel  Intel   \n",
       "3            160.0                 1400.0        1800    Intel  Intel   \n",
       "4            258.0                  758.0        3700  Unknown    AMD   \n",
       "\n",
       "   FP16 GFLOPS  FP32 GFLOPS  FP64 GFLOPS  \n",
       "0          NaN          NaN          NaN  \n",
       "1          NaN          NaN          NaN  \n",
       "2          NaN          NaN          NaN  \n",
       "3          NaN          NaN          NaN  \n",
       "4          NaN          NaN          NaN  "
      ]
     },
     "execution_count": 47,
     "metadata": {},
     "output_type": "execute_result"
    }
   ],
   "source": [
    "df = df.drop(df.columns[0], axis=1)\n",
    "df.head()"
   ]
  },
  {
   "cell_type": "markdown",
   "metadata": {},
   "source": [
    "**Rename** columns."
   ]
  },
  {
   "cell_type": "code",
   "execution_count": 48,
   "metadata": {},
   "outputs": [
    {
     "name": "stdout",
     "output_type": "stream",
     "text": [
      "<class 'pandas.core.frame.DataFrame'>\n",
      "RangeIndex: 4854 entries, 0 to 4853\n",
      "Data columns (total 13 columns):\n",
      " #   Column        Non-Null Count  Dtype  \n",
      "---  ------        --------------  -----  \n",
      " 0   Product       4854 non-null   object \n",
      " 1   Type          4854 non-null   object \n",
      " 2   Date          4854 non-null   object \n",
      " 3   Process_Size  4845 non-null   float64\n",
      " 4   TDP           4228 non-null   float64\n",
      " 5   Die_Size      4139 non-null   float64\n",
      " 6   Transistors   4143 non-null   float64\n",
      " 7   Freq (MHz)    4854 non-null   int64  \n",
      " 8   Foundry       4854 non-null   object \n",
      " 9   Vendor        4854 non-null   object \n",
      " 10  FP16          536 non-null    float64\n",
      " 11  FP32          1948 non-null   float64\n",
      " 12  FP64          1306 non-null   float64\n",
      "dtypes: float64(7), int64(1), object(5)\n",
      "memory usage: 493.1+ KB\n"
     ]
    }
   ],
   "source": [
    "df_w = df.rename(columns = {\n",
    "    'Release Date' : 'Date' ,\n",
    "    'Process Size (nm)' : 'Process_Size' ,\n",
    "    'TDP (W)' : 'TDP' ,\n",
    "    'Die Size (mm^2)' : 'Die_Size' ,\n",
    "    'Transistors (million)' : 'Transistors' ,\n",
    "    'Frequency (MHz)' : 'Frequency' ,\n",
    "    'FP16 GFLOPS' : 'FP16' ,\n",
    "    'FP32 GFLOPS' : 'FP32' ,\n",
    "    'FP64 GFLOPS' : 'FP64'\n",
    "})\n",
    "df_w.info()\n",
    "df_l = df_w.copy()"
   ]
  },
  {
   "cell_type": "markdown",
   "metadata": {},
   "source": [
    "## Determining **Distinct** Values"
   ]
  },
  {
   "cell_type": "code",
   "execution_count": 79,
   "metadata": {},
   "outputs": [
    {
     "data": {
      "text/plain": [
       "array(['AMD Athlon 64 3500+', 'AMD Athlon 200GE', 'Intel Xeon E5-2603 v2',\n",
       "       ..., 'NVIDIA Tegra 3 GPU', 'NVIDIA Playstation 3 GPU 28nm',\n",
       "       'NVIDIA Quadro 3000M'], shape=(3047,), dtype=object)"
      ]
     },
     "execution_count": 79,
     "metadata": {},
     "output_type": "execute_result"
    }
   ],
   "source": [
    "df_w['Product'].unique()"
   ]
  },
  {
   "cell_type": "code",
   "execution_count": 50,
   "metadata": {},
   "outputs": [
    {
     "data": {
      "text/plain": [
       "4278"
      ]
     },
     "execution_count": 50,
     "metadata": {},
     "output_type": "execute_result"
    }
   ],
   "source": [
    "df_w['Product'].nunique()"
   ]
  },
  {
   "cell_type": "code",
   "execution_count": 51,
   "metadata": {},
   "outputs": [
    {
     "data": {
      "text/plain": [
       "array(['CPU', 'GPU'], dtype=object)"
      ]
     },
     "execution_count": 51,
     "metadata": {},
     "output_type": "execute_result"
    }
   ],
   "source": [
    "df_w['Type'].unique()"
   ]
  },
  {
   "cell_type": "code",
   "execution_count": 52,
   "metadata": {},
   "outputs": [
    {
     "data": {
      "text/plain": [
       "2"
      ]
     },
     "execution_count": 52,
     "metadata": {},
     "output_type": "execute_result"
    }
   ],
   "source": [
    "df_w['Type'].nunique()"
   ]
  },
  {
   "cell_type": "code",
   "execution_count": 53,
   "metadata": {},
   "outputs": [
    {
     "data": {
      "text/plain": [
       "array(['Unknown', 'Intel', 'GF', 'TSMC', 'UMC', 'Samsung', 'Renesas',\n",
       "       'Sony', 'NEC', 'IBM'], dtype=object)"
      ]
     },
     "execution_count": 53,
     "metadata": {},
     "output_type": "execute_result"
    }
   ],
   "source": [
    "df_w['Foundry'].unique()"
   ]
  },
  {
   "cell_type": "code",
   "execution_count": 54,
   "metadata": {},
   "outputs": [
    {
     "data": {
      "text/plain": [
       "10"
      ]
     },
     "execution_count": 54,
     "metadata": {},
     "output_type": "execute_result"
    }
   ],
   "source": [
    "df_w['Foundry'].nunique()"
   ]
  },
  {
   "cell_type": "code",
   "execution_count": 55,
   "metadata": {},
   "outputs": [
    {
     "data": {
      "text/plain": [
       "array(['AMD', 'Intel', 'Other', 'NVIDIA', 'ATI'], dtype=object)"
      ]
     },
     "execution_count": 55,
     "metadata": {},
     "output_type": "execute_result"
    }
   ],
   "source": [
    "df_w['Vendor'].unique()"
   ]
  },
  {
   "cell_type": "code",
   "execution_count": 56,
   "metadata": {},
   "outputs": [
    {
     "data": {
      "text/plain": [
       "5"
      ]
     },
     "execution_count": 56,
     "metadata": {},
     "output_type": "execute_result"
    }
   ],
   "source": [
    "df_w['Vendor'].nunique()"
   ]
  },
  {
   "cell_type": "markdown",
   "metadata": {},
   "source": [
    "## Data Cleaning - Dropping NaN"
   ]
  },
  {
   "cell_type": "markdown",
   "metadata": {},
   "source": [
    "Determine the **count of NaN** (*Not a Number*) values."
   ]
  },
  {
   "cell_type": "code",
   "execution_count": 57,
   "metadata": {},
   "outputs": [
    {
     "data": {
      "text/plain": [
       "Product            0\n",
       "Type               0\n",
       "Date               0\n",
       "Process_Size       9\n",
       "TDP              626\n",
       "Die_Size         715\n",
       "Transistors      711\n",
       "Freq (MHz)         0\n",
       "Foundry            0\n",
       "Vendor             0\n",
       "FP16            4318\n",
       "FP32            2906\n",
       "FP64            3548\n",
       "dtype: int64"
      ]
     },
     "execution_count": 57,
     "metadata": {},
     "output_type": "execute_result"
    }
   ],
   "source": [
    "df_w.isna().sum()"
   ]
  },
  {
   "cell_type": "code",
   "execution_count": 58,
   "metadata": {},
   "outputs": [
    {
     "data": {
      "text/plain": [
       "Product            0\n",
       "Type               0\n",
       "Date               0\n",
       "Process_Size       0\n",
       "TDP              623\n",
       "Die_Size         715\n",
       "Transistors      708\n",
       "Freq (MHz)         0\n",
       "Foundry            0\n",
       "Vendor             0\n",
       "FP16            4309\n",
       "FP32            2901\n",
       "FP64            3541\n",
       "dtype: int64"
      ]
     },
     "execution_count": 58,
     "metadata": {},
     "output_type": "execute_result"
    }
   ],
   "source": [
    "# Cleaning Process_Size\n",
    "\n",
    "df_w = df_w.dropna(subset=['Process_Size'])\n",
    "df_w.isna().sum()"
   ]
  },
  {
   "cell_type": "code",
   "execution_count": 59,
   "metadata": {},
   "outputs": [
    {
     "data": {
      "text/plain": [
       "Product            0\n",
       "Type               0\n",
       "Date               0\n",
       "Process_Size       0\n",
       "TDP                0\n",
       "Die_Size         660\n",
       "Transistors      668\n",
       "Freq (MHz)         0\n",
       "Foundry            0\n",
       "Vendor             0\n",
       "FP16            3717\n",
       "FP32            2481\n",
       "FP64            3047\n",
       "dtype: int64"
      ]
     },
     "execution_count": 59,
     "metadata": {},
     "output_type": "execute_result"
    }
   ],
   "source": [
    "# Cleaning TDP\n",
    "\n",
    "df_w = df_w.dropna(subset=['TDP'])\n",
    "df_w.isna().sum()\n"
   ]
  },
  {
   "cell_type": "code",
   "execution_count": 60,
   "metadata": {},
   "outputs": [
    {
     "data": {
      "text/plain": [
       "Product            0\n",
       "Type               0\n",
       "Date               0\n",
       "Process_Size       0\n",
       "TDP                0\n",
       "Die_Size           0\n",
       "Transistors      140\n",
       "Freq (MHz)         0\n",
       "Foundry            0\n",
       "Vendor             0\n",
       "FP16            3113\n",
       "FP32            1930\n",
       "FP64            2489\n",
       "dtype: int64"
      ]
     },
     "execution_count": 60,
     "metadata": {},
     "output_type": "execute_result"
    }
   ],
   "source": [
    "# Cleaning Die_Size\n",
    "\n",
    "df_w = df_w.dropna(subset=['Die_Size'])\n",
    "df_w.isna().sum()"
   ]
  },
  {
   "cell_type": "code",
   "execution_count": 61,
   "metadata": {},
   "outputs": [
    {
     "data": {
      "text/plain": [
       "Product            0\n",
       "Type               0\n",
       "Date               0\n",
       "Process_Size       0\n",
       "TDP                0\n",
       "Die_Size           0\n",
       "Transistors        0\n",
       "Freq (MHz)         0\n",
       "Foundry            0\n",
       "Vendor             0\n",
       "FP16            2992\n",
       "FP32            1812\n",
       "FP64            2369\n",
       "dtype: int64"
      ]
     },
     "execution_count": 61,
     "metadata": {},
     "output_type": "execute_result"
    }
   ],
   "source": [
    "# Cleaning Transistors\n",
    "\n",
    "df_w = df_w.dropna(subset=['Transistors'])\n",
    "df_w.isna().sum()"
   ]
  },
  {
   "cell_type": "code",
   "execution_count": 62,
   "metadata": {},
   "outputs": [
    {
     "data": {
      "text/plain": [
       "Product            0\n",
       "Type               0\n",
       "Date               0\n",
       "Process_Size       0\n",
       "TDP                0\n",
       "Die_Size           0\n",
       "Transistors        0\n",
       "Freq (MHz)         0\n",
       "Foundry            0\n",
       "Vendor             0\n",
       "FP16            2992\n",
       "FP32            1812\n",
       "FP64            2369\n",
       "dtype: int64"
      ]
     },
     "execution_count": 62,
     "metadata": {},
     "output_type": "execute_result"
    }
   ],
   "source": [
    "df_w = df_w.dropna(subset=['Process_Size','TDP','Die_Size','Transistors'])\n",
    "df_w.isna().sum()"
   ]
  },
  {
   "cell_type": "markdown",
   "metadata": {},
   "source": [
    "## Data Cleaning - Replacing NaN with Mean"
   ]
  },
  {
   "cell_type": "markdown",
   "metadata": {},
   "source": [
    "Make a copy of **df_column**."
   ]
  },
  {
   "cell_type": "code",
   "execution_count": 82,
   "metadata": {},
   "outputs": [
    {
     "name": "stdout",
     "output_type": "stream",
     "text": [
      "<class 'pandas.core.frame.DataFrame'>\n",
      "Index: 3422 entries, 0 to 4851\n",
      "Data columns (total 13 columns):\n",
      " #   Column        Non-Null Count  Dtype  \n",
      "---  ------        --------------  -----  \n",
      " 0   Product       3422 non-null   object \n",
      " 1   Type          3422 non-null   object \n",
      " 2   Date          3422 non-null   object \n",
      " 3   Process_Size  3422 non-null   float64\n",
      " 4   TDP           3422 non-null   float64\n",
      " 5   Die_Size      3422 non-null   float64\n",
      " 6   Transistors   3422 non-null   float64\n",
      " 7   Freq (MHz)    3422 non-null   int64  \n",
      " 8   Foundry       3422 non-null   object \n",
      " 9   Vendor        3422 non-null   object \n",
      " 10  FP16          430 non-null    float64\n",
      " 11  FP32          1610 non-null   float64\n",
      " 12  FP64          1053 non-null   float64\n",
      "dtypes: float64(7), int64(1), object(5)\n",
      "memory usage: 374.3+ KB\n"
     ]
    }
   ],
   "source": [
    "df_c = df_w.copy()\n",
    "df_c.info()"
   ]
  },
  {
   "cell_type": "code",
   "execution_count": 64,
   "metadata": {},
   "outputs": [
    {
     "name": "stdout",
     "output_type": "stream",
     "text": [
      "53.04850964348334\n"
     ]
    }
   ],
   "source": [
    "# Cleaning Process_Size with Mean\n",
    "\n",
    "psize_mean = df_w['Process_Size'].mean()\n",
    "print(psize_mean)\n",
    "df_c['Process_Size'] = df_c['Process_Size'].fillna(psize_mean)"
   ]
  },
  {
   "cell_type": "code",
   "execution_count": 65,
   "metadata": {},
   "outputs": [
    {
     "name": "stdout",
     "output_type": "stream",
     "text": [
      "83.74079485680889\n"
     ]
    }
   ],
   "source": [
    "# Cleaning TDP with Mean\n",
    "\n",
    "tdp_mean = df_w['TDP'].mean()\n",
    "print(tdp_mean)\n",
    "df_c['TDP'] = df_c['TDP'].fillna(tdp_mean)"
   ]
  },
  {
   "cell_type": "code",
   "execution_count": 66,
   "metadata": {},
   "outputs": [],
   "source": [
    "# Cleaning Die_Size with Mean\n",
    "df_c['Die_Size'] = df_c['Die_Size'].fillna(df_column['Die_Size'].mean())"
   ]
  },
  {
   "cell_type": "code",
   "execution_count": 67,
   "metadata": {},
   "outputs": [],
   "source": [
    "# Cleaning Transistors with Mean\n",
    "df_c['Transistors'] = df_c['Transistors'].fillna(df_column['Transistors'].mean())"
   ]
  },
  {
   "cell_type": "code",
   "execution_count": 78,
   "metadata": {},
   "outputs": [
    {
     "name": "stdout",
     "output_type": "stream",
     "text": [
      "<class 'pandas.core.frame.DataFrame'>\n",
      "Index: 3422 entries, 0 to 4851\n",
      "Data columns (total 13 columns):\n",
      " #   Column        Non-Null Count  Dtype  \n",
      "---  ------        --------------  -----  \n",
      " 0   Product       3422 non-null   object \n",
      " 1   Type          3422 non-null   object \n",
      " 2   Date          3422 non-null   object \n",
      " 3   Process_Size  3422 non-null   float64\n",
      " 4   TDP           3422 non-null   float64\n",
      " 5   Die_Size      3422 non-null   float64\n",
      " 6   Transistors   3422 non-null   float64\n",
      " 7   Freq (MHz)    3422 non-null   int64  \n",
      " 8   Foundry       3422 non-null   object \n",
      " 9   Vendor        3422 non-null   object \n",
      " 10  FP16          430 non-null    float64\n",
      " 11  FP32          1610 non-null   float64\n",
      " 12  FP64          1053 non-null   float64\n",
      "dtypes: float64(7), int64(1), object(5)\n",
      "memory usage: 374.3+ KB\n"
     ]
    }
   ],
   "source": [
    "df_c.info()"
   ]
  },
  {
   "cell_type": "code",
   "execution_count": 77,
   "metadata": {},
   "outputs": [
    {
     "data": {
      "text/html": [
       "<div>\n",
       "<style scoped>\n",
       "    .dataframe tbody tr th:only-of-type {\n",
       "        vertical-align: middle;\n",
       "    }\n",
       "\n",
       "    .dataframe tbody tr th {\n",
       "        vertical-align: top;\n",
       "    }\n",
       "\n",
       "    .dataframe thead th {\n",
       "        text-align: right;\n",
       "    }\n",
       "</style>\n",
       "<table border=\"1\" class=\"dataframe\">\n",
       "  <thead>\n",
       "    <tr style=\"text-align: right;\">\n",
       "      <th></th>\n",
       "      <th>Process_Size</th>\n",
       "      <th>TDP</th>\n",
       "      <th>Die_Size</th>\n",
       "      <th>Transistors</th>\n",
       "      <th>Freq (MHz)</th>\n",
       "      <th>FP16</th>\n",
       "      <th>FP32</th>\n",
       "      <th>FP64</th>\n",
       "    </tr>\n",
       "  </thead>\n",
       "  <tbody>\n",
       "    <tr>\n",
       "      <th>count</th>\n",
       "      <td>3422.000000</td>\n",
       "      <td>3422.000000</td>\n",
       "      <td>3422.000000</td>\n",
       "      <td>3422.000000</td>\n",
       "      <td>3422.000000</td>\n",
       "      <td>430.000000</td>\n",
       "      <td>1610.000000</td>\n",
       "      <td>1053.000000</td>\n",
       "    </tr>\n",
       "    <tr>\n",
       "      <th>mean</th>\n",
       "      <td>53.048510</td>\n",
       "      <td>83.740795</td>\n",
       "      <td>200.003799</td>\n",
       "      <td>2163.295441</td>\n",
       "      <td>1507.964641</td>\n",
       "      <td>9711.399488</td>\n",
       "      <td>2349.869963</td>\n",
       "      <td>425.851916</td>\n",
       "    </tr>\n",
       "    <tr>\n",
       "      <th>std</th>\n",
       "      <td>41.146049</td>\n",
       "      <td>78.683153</td>\n",
       "      <td>130.795697</td>\n",
       "      <td>4324.171974</td>\n",
       "      <td>1012.767189</td>\n",
       "      <td>14931.668538</td>\n",
       "      <td>4176.568522</td>\n",
       "      <td>1267.201434</td>\n",
       "    </tr>\n",
       "    <tr>\n",
       "      <th>min</th>\n",
       "      <td>7.000000</td>\n",
       "      <td>1.000000</td>\n",
       "      <td>1.000000</td>\n",
       "      <td>10.000000</td>\n",
       "      <td>100.000000</td>\n",
       "      <td>10.020000</td>\n",
       "      <td>12.800000</td>\n",
       "      <td>3.600000</td>\n",
       "    </tr>\n",
       "    <tr>\n",
       "      <th>25%</th>\n",
       "      <td>28.000000</td>\n",
       "      <td>35.000000</td>\n",
       "      <td>111.000000</td>\n",
       "      <td>223.250000</td>\n",
       "      <td>650.000000</td>\n",
       "      <td>947.800000</td>\n",
       "      <td>253.400000</td>\n",
       "      <td>37.580000</td>\n",
       "    </tr>\n",
       "    <tr>\n",
       "      <th>50%</th>\n",
       "      <td>40.000000</td>\n",
       "      <td>65.000000</td>\n",
       "      <td>160.000000</td>\n",
       "      <td>731.000000</td>\n",
       "      <td>1120.000000</td>\n",
       "      <td>3942.000000</td>\n",
       "      <td>732.700000</td>\n",
       "      <td>95.360000</td>\n",
       "    </tr>\n",
       "    <tr>\n",
       "      <th>75%</th>\n",
       "      <td>65.000000</td>\n",
       "      <td>100.000000</td>\n",
       "      <td>246.000000</td>\n",
       "      <td>2080.000000</td>\n",
       "      <td>2333.000000</td>\n",
       "      <td>14130.000000</td>\n",
       "      <td>2448.000000</td>\n",
       "      <td>274.600000</td>\n",
       "    </tr>\n",
       "    <tr>\n",
       "      <th>max</th>\n",
       "      <td>250.000000</td>\n",
       "      <td>900.000000</td>\n",
       "      <td>826.000000</td>\n",
       "      <td>54200.000000</td>\n",
       "      <td>4700.000000</td>\n",
       "      <td>184600.000000</td>\n",
       "      <td>40000.000000</td>\n",
       "      <td>11540.000000</td>\n",
       "    </tr>\n",
       "  </tbody>\n",
       "</table>\n",
       "</div>"
      ],
      "text/plain": [
       "       Process_Size          TDP     Die_Size   Transistors   Freq (MHz)  \\\n",
       "count   3422.000000  3422.000000  3422.000000   3422.000000  3422.000000   \n",
       "mean      53.048510    83.740795   200.003799   2163.295441  1507.964641   \n",
       "std       41.146049    78.683153   130.795697   4324.171974  1012.767189   \n",
       "min        7.000000     1.000000     1.000000     10.000000   100.000000   \n",
       "25%       28.000000    35.000000   111.000000    223.250000   650.000000   \n",
       "50%       40.000000    65.000000   160.000000    731.000000  1120.000000   \n",
       "75%       65.000000   100.000000   246.000000   2080.000000  2333.000000   \n",
       "max      250.000000   900.000000   826.000000  54200.000000  4700.000000   \n",
       "\n",
       "                FP16          FP32          FP64  \n",
       "count     430.000000   1610.000000   1053.000000  \n",
       "mean     9711.399488   2349.869963    425.851916  \n",
       "std     14931.668538   4176.568522   1267.201434  \n",
       "min        10.020000     12.800000      3.600000  \n",
       "25%       947.800000    253.400000     37.580000  \n",
       "50%      3942.000000    732.700000     95.360000  \n",
       "75%     14130.000000   2448.000000    274.600000  \n",
       "max    184600.000000  40000.000000  11540.000000  "
      ]
     },
     "execution_count": 77,
     "metadata": {},
     "output_type": "execute_result"
    }
   ],
   "source": [
    "df_c.describe()"
   ]
  },
  {
   "cell_type": "markdown",
   "metadata": {},
   "source": [
    "## Lambda Function"
   ]
  },
  {
   "cell_type": "markdown",
   "metadata": {},
   "source": [
    "A **lambda function** in Python is a small, anonymous function defined using the **lambda** keyword. It is also known as an inline function or anonymous function because it doesn't require a formal name (unlike functions defined with def). Lambda functions are typically used for short, simple operations that can be written in a single line."
   ]
  },
  {
   "cell_type": "markdown",
   "metadata": {},
   "source": [
    "Syntax: <br>\n",
    "**lambda** arguments: expression"
   ]
  },
  {
   "cell_type": "code",
   "execution_count": 70,
   "metadata": {},
   "outputs": [
    {
     "data": {
      "text/plain": [
       "[2, 4, 6, 8, 10]"
      ]
     },
     "execution_count": 70,
     "metadata": {},
     "output_type": "execute_result"
    }
   ],
   "source": [
    "numbers = [1,2,3,4,5,6,7,8,9,10]\n",
    "\n",
    "def even(n):\n",
    "    e = []\n",
    "    for i in n:\n",
    "        if i%2==0:\n",
    "            e.append(i)\n",
    "    return e\n",
    "\n",
    "even(numbers)"
   ]
  },
  {
   "cell_type": "code",
   "execution_count": 71,
   "metadata": {},
   "outputs": [
    {
     "data": {
      "text/plain": [
       "[2, 4, 6, 8, 10]"
      ]
     },
     "execution_count": 71,
     "metadata": {},
     "output_type": "execute_result"
    }
   ],
   "source": [
    "even = filter(lambda n:n%2==0, numbers)\n",
    "list(even)"
   ]
  },
  {
   "cell_type": "markdown",
   "metadata": {},
   "source": [
    "Use **lambda** function to replace NaN values with mean of each column."
   ]
  },
  {
   "cell_type": "code",
   "execution_count": 72,
   "metadata": {},
   "outputs": [
    {
     "data": {
      "text/plain": [
       "Product            0\n",
       "Type               0\n",
       "Date               0\n",
       "Process_Size       9\n",
       "TDP              626\n",
       "Die_Size         715\n",
       "Transistors      711\n",
       "Freq (MHz)         0\n",
       "Foundry            0\n",
       "Vendor             0\n",
       "FP16            4318\n",
       "FP32            2906\n",
       "FP64            3548\n",
       "dtype: int64"
      ]
     },
     "execution_count": 72,
     "metadata": {},
     "output_type": "execute_result"
    }
   ],
   "source": [
    "df_l.isna().sum()"
   ]
  },
  {
   "cell_type": "code",
   "execution_count": 73,
   "metadata": {},
   "outputs": [
    {
     "data": {
      "text/plain": [
       "Product            0\n",
       "Type               0\n",
       "Date               0\n",
       "Process_Size       0\n",
       "TDP                0\n",
       "Die_Size           0\n",
       "Transistors        0\n",
       "Freq (MHz)         0\n",
       "Foundry            0\n",
       "Vendor             0\n",
       "FP16            4318\n",
       "FP32            2906\n",
       "FP64            3548\n",
       "dtype: int64"
      ]
     },
     "execution_count": 73,
     "metadata": {},
     "output_type": "execute_result"
    }
   ],
   "source": [
    "n_columns = ['Process_Size',\n",
    "             'TDP',\n",
    "             'Die_Size',\n",
    "             'Transistors']\n",
    "df_l[n_columns] = df_l[n_columns].apply(lambda n : n.fillna(n.mean()))\n",
    "df_l.isna().sum()"
   ]
  },
  {
   "cell_type": "code",
   "execution_count": 76,
   "metadata": {},
   "outputs": [
    {
     "name": "stdout",
     "output_type": "stream",
     "text": [
      "<class 'pandas.core.frame.DataFrame'>\n",
      "RangeIndex: 4854 entries, 0 to 4853\n",
      "Data columns (total 13 columns):\n",
      " #   Column        Non-Null Count  Dtype  \n",
      "---  ------        --------------  -----  \n",
      " 0   Product       4854 non-null   object \n",
      " 1   Type          4854 non-null   object \n",
      " 2   Date          4854 non-null   object \n",
      " 3   Process_Size  4854 non-null   float64\n",
      " 4   TDP           4854 non-null   float64\n",
      " 5   Die_Size      4854 non-null   float64\n",
      " 6   Transistors   4854 non-null   float64\n",
      " 7   Freq (MHz)    4854 non-null   int64  \n",
      " 8   Foundry       4854 non-null   object \n",
      " 9   Vendor        4854 non-null   object \n",
      " 10  FP16          536 non-null    float64\n",
      " 11  FP32          1948 non-null   float64\n",
      " 12  FP64          1306 non-null   float64\n",
      "dtypes: float64(7), int64(1), object(5)\n",
      "memory usage: 493.1+ KB\n"
     ]
    }
   ],
   "source": [
    "df_l.info()"
   ]
  },
  {
   "cell_type": "markdown",
   "metadata": {},
   "source": [
    "## **Saving** the Cleaned Dataset"
   ]
  },
  {
   "cell_type": "code",
   "execution_count": 75,
   "metadata": {},
   "outputs": [],
   "source": [
    "df_c.to_csv(r\"..\\raw\\chip-dataset-cleaned.csv\",index=False)"
   ]
  }
 ],
 "metadata": {
  "kernelspec": {
   "display_name": "Python 3",
   "language": "python",
   "name": "python3"
  },
  "language_info": {
   "codemirror_mode": {
    "name": "ipython",
    "version": 3
   },
   "file_extension": ".py",
   "mimetype": "text/x-python",
   "name": "python",
   "nbconvert_exporter": "python",
   "pygments_lexer": "ipython3",
   "version": "3.13.1"
  }
 },
 "nbformat": 4,
 "nbformat_minor": 2
}
