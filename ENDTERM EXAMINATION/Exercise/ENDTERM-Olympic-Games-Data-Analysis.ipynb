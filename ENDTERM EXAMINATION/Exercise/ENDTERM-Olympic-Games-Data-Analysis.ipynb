{
 "cells": [
  {
   "cell_type": "markdown",
   "metadata": {},
   "source": [
    "# ENDTERM EXAMINATION: <br> Olympic Games Data Analysis (1896-2016): Trends in Athlete Demographics, Performance, and Participation <hr style = \"border: 2.5px solid #ff33a5\"></hr>"
   ]
  },
  {
   "cell_type": "markdown",
   "metadata": {},
   "source": [
    "Name: **Pia Mae D. Tolentino** <br>\n",
    "Course and Section: **BSCpE-2A**"
   ]
  },
  {
   "cell_type": "code",
   "execution_count": 66,
   "metadata": {},
   "outputs": [],
   "source": [
    "import pandas as pd\n",
    "import numpy as np\n",
    "import matplotlib.pyplot as plt"
   ]
  },
  {
   "cell_type": "markdown",
   "metadata": {},
   "source": [
    "## Overview of the Dataset"
   ]
  },
  {
   "cell_type": "code",
   "execution_count": 67,
   "metadata": {},
   "outputs": [
    {
     "name": "stdout",
     "output_type": "stream",
     "text": [
      "<class 'pandas.core.frame.DataFrame'>\n",
      "RangeIndex: 8048 entries, 0 to 8047\n",
      "Data columns (total 15 columns):\n",
      " #   Column  Non-Null Count  Dtype  \n",
      "---  ------  --------------  -----  \n",
      " 0   ID      8048 non-null   int64  \n",
      " 1   Name    8048 non-null   object \n",
      " 2   Sex     8048 non-null   object \n",
      " 3   Age     7781 non-null   float64\n",
      " 4   Height  6273 non-null   float64\n",
      " 5   Weight  6184 non-null   float64\n",
      " 6   Team    8048 non-null   object \n",
      " 7   NOC     8048 non-null   object \n",
      " 8   Games   8048 non-null   object \n",
      " 9   Year    8048 non-null   int64  \n",
      " 10  Season  8048 non-null   object \n",
      " 11  City    8048 non-null   object \n",
      " 12  Sport   8048 non-null   object \n",
      " 13  Event   8048 non-null   object \n",
      " 14  Medal   8048 non-null   object \n",
      "dtypes: float64(3), int64(2), object(10)\n",
      "memory usage: 943.3+ KB\n"
     ]
    }
   ],
   "source": [
    "df = pd.read_csv(r\"C:\\Users\\63905\\OneDrive\\Desktop\\MATHEDA-V-TOLENTINO\\MATHEDA-V-TOLENTINO\\ENDTERM EXAMINATION\\Raw\\athletes_events.csv\", \n",
    "                 delimiter=\",\")\n",
    "df.info()"
   ]
  },
  {
   "cell_type": "code",
   "execution_count": 68,
   "metadata": {},
   "outputs": [
    {
     "data": {
      "text/html": [
       "<div>\n",
       "<style scoped>\n",
       "    .dataframe tbody tr th:only-of-type {\n",
       "        vertical-align: middle;\n",
       "    }\n",
       "\n",
       "    .dataframe tbody tr th {\n",
       "        vertical-align: top;\n",
       "    }\n",
       "\n",
       "    .dataframe thead th {\n",
       "        text-align: right;\n",
       "    }\n",
       "</style>\n",
       "<table border=\"1\" class=\"dataframe\">\n",
       "  <thead>\n",
       "    <tr style=\"text-align: right;\">\n",
       "      <th></th>\n",
       "      <th>ID</th>\n",
       "      <th>Name</th>\n",
       "      <th>Sex</th>\n",
       "      <th>Age</th>\n",
       "      <th>Height</th>\n",
       "      <th>Weight</th>\n",
       "      <th>Team</th>\n",
       "      <th>NOC</th>\n",
       "      <th>Games</th>\n",
       "      <th>Year</th>\n",
       "      <th>Season</th>\n",
       "      <th>City</th>\n",
       "      <th>Sport</th>\n",
       "      <th>Event</th>\n",
       "      <th>Medal</th>\n",
       "    </tr>\n",
       "  </thead>\n",
       "  <tbody>\n",
       "    <tr>\n",
       "      <th>0</th>\n",
       "      <td>41410</td>\n",
       "      <td>Ahmed Goneim</td>\n",
       "      <td>M</td>\n",
       "      <td>NaN</td>\n",
       "      <td>NaN</td>\n",
       "      <td>NaN</td>\n",
       "      <td>United Arab Republic</td>\n",
       "      <td>UAR</td>\n",
       "      <td>1960 Summer</td>\n",
       "      <td>1960</td>\n",
       "      <td>Summer</td>\n",
       "      <td>Roma</td>\n",
       "      <td>Gymnastics</td>\n",
       "      <td>Gymnastics Men's Floor Exercise</td>\n",
       "      <td>No Medal</td>\n",
       "    </tr>\n",
       "    <tr>\n",
       "      <th>1</th>\n",
       "      <td>62946</td>\n",
       "      <td>Tadahiro Kosaka</td>\n",
       "      <td>M</td>\n",
       "      <td>28.0</td>\n",
       "      <td>179.0</td>\n",
       "      <td>65.0</td>\n",
       "      <td>Japan</td>\n",
       "      <td>JPN</td>\n",
       "      <td>1988 Summer</td>\n",
       "      <td>1988</td>\n",
       "      <td>Summer</td>\n",
       "      <td>Seoul</td>\n",
       "      <td>Athletics</td>\n",
       "      <td>Athletics Men's 50 kilometres Walk</td>\n",
       "      <td>No Medal</td>\n",
       "    </tr>\n",
       "    <tr>\n",
       "      <th>2</th>\n",
       "      <td>16075</td>\n",
       "      <td>Marano Bucio Ramrez</td>\n",
       "      <td>M</td>\n",
       "      <td>33.0</td>\n",
       "      <td>168.0</td>\n",
       "      <td>72.0</td>\n",
       "      <td>Mexico</td>\n",
       "      <td>MEX</td>\n",
       "      <td>1976 Summer</td>\n",
       "      <td>1976</td>\n",
       "      <td>Summer</td>\n",
       "      <td>Montreal</td>\n",
       "      <td>Equestrianism</td>\n",
       "      <td>Equestrianism Mixed Three-Day Event, Individual</td>\n",
       "      <td>No Medal</td>\n",
       "    </tr>\n",
       "    <tr>\n",
       "      <th>3</th>\n",
       "      <td>124796</td>\n",
       "      <td>Hubert Van Nerom</td>\n",
       "      <td>M</td>\n",
       "      <td>28.0</td>\n",
       "      <td>NaN</td>\n",
       "      <td>NaN</td>\n",
       "      <td>Belgium</td>\n",
       "      <td>BEL</td>\n",
       "      <td>1936 Summer</td>\n",
       "      <td>1936</td>\n",
       "      <td>Summer</td>\n",
       "      <td>Berlin</td>\n",
       "      <td>Fencing</td>\n",
       "      <td>Fencing Men's Sabre, Team</td>\n",
       "      <td>No Medal</td>\n",
       "    </tr>\n",
       "    <tr>\n",
       "      <th>4</th>\n",
       "      <td>856</td>\n",
       "      <td>Per Owe Adamson</td>\n",
       "      <td>M</td>\n",
       "      <td>25.0</td>\n",
       "      <td>171.0</td>\n",
       "      <td>65.0</td>\n",
       "      <td>Sweden</td>\n",
       "      <td>SWE</td>\n",
       "      <td>1960 Summer</td>\n",
       "      <td>1960</td>\n",
       "      <td>Summer</td>\n",
       "      <td>Roma</td>\n",
       "      <td>Cycling</td>\n",
       "      <td>Cycling Men's Road Race, Individual</td>\n",
       "      <td>No Medal</td>\n",
       "    </tr>\n",
       "  </tbody>\n",
       "</table>\n",
       "</div>"
      ],
      "text/plain": [
       "       ID                 Name Sex   Age  Height  Weight  \\\n",
       "0   41410         Ahmed Goneim   M   NaN     NaN     NaN   \n",
       "1   62946      Tadahiro Kosaka   M  28.0   179.0    65.0   \n",
       "2   16075  Marano Bucio Ramrez   M  33.0   168.0    72.0   \n",
       "3  124796     Hubert Van Nerom   M  28.0     NaN     NaN   \n",
       "4     856      Per Owe Adamson   M  25.0   171.0    65.0   \n",
       "\n",
       "                   Team  NOC        Games  Year  Season      City  \\\n",
       "0  United Arab Republic  UAR  1960 Summer  1960  Summer      Roma   \n",
       "1                 Japan  JPN  1988 Summer  1988  Summer     Seoul   \n",
       "2                Mexico  MEX  1976 Summer  1976  Summer  Montreal   \n",
       "3               Belgium  BEL  1936 Summer  1936  Summer    Berlin   \n",
       "4                Sweden  SWE  1960 Summer  1960  Summer      Roma   \n",
       "\n",
       "           Sport                                            Event     Medal  \n",
       "0     Gymnastics                  Gymnastics Men's Floor Exercise  No Medal  \n",
       "1      Athletics               Athletics Men's 50 kilometres Walk  No Medal  \n",
       "2  Equestrianism  Equestrianism Mixed Three-Day Event, Individual  No Medal  \n",
       "3        Fencing                        Fencing Men's Sabre, Team  No Medal  \n",
       "4        Cycling              Cycling Men's Road Race, Individual  No Medal  "
      ]
     },
     "execution_count": 68,
     "metadata": {},
     "output_type": "execute_result"
    }
   ],
   "source": [
    "df.head()"
   ]
  },
  {
   "cell_type": "code",
   "execution_count": 69,
   "metadata": {},
   "outputs": [
    {
     "data": {
      "text/html": [
       "<div>\n",
       "<style scoped>\n",
       "    .dataframe tbody tr th:only-of-type {\n",
       "        vertical-align: middle;\n",
       "    }\n",
       "\n",
       "    .dataframe tbody tr th {\n",
       "        vertical-align: top;\n",
       "    }\n",
       "\n",
       "    .dataframe thead th {\n",
       "        text-align: right;\n",
       "    }\n",
       "</style>\n",
       "<table border=\"1\" class=\"dataframe\">\n",
       "  <thead>\n",
       "    <tr style=\"text-align: right;\">\n",
       "      <th></th>\n",
       "      <th>Name</th>\n",
       "      <th>Sex</th>\n",
       "      <th>Age</th>\n",
       "      <th>Height</th>\n",
       "      <th>Weight</th>\n",
       "      <th>Team</th>\n",
       "      <th>NOC</th>\n",
       "      <th>Games</th>\n",
       "      <th>Year</th>\n",
       "      <th>Season</th>\n",
       "      <th>City</th>\n",
       "      <th>Sport</th>\n",
       "      <th>Event</th>\n",
       "      <th>Medal</th>\n",
       "    </tr>\n",
       "  </thead>\n",
       "  <tbody>\n",
       "    <tr>\n",
       "      <th>0</th>\n",
       "      <td>Ahmed Goneim</td>\n",
       "      <td>M</td>\n",
       "      <td>NaN</td>\n",
       "      <td>NaN</td>\n",
       "      <td>NaN</td>\n",
       "      <td>United Arab Republic</td>\n",
       "      <td>UAR</td>\n",
       "      <td>1960 Summer</td>\n",
       "      <td>1960</td>\n",
       "      <td>Summer</td>\n",
       "      <td>Roma</td>\n",
       "      <td>Gymnastics</td>\n",
       "      <td>Gymnastics Men's Floor Exercise</td>\n",
       "      <td>No Medal</td>\n",
       "    </tr>\n",
       "    <tr>\n",
       "      <th>1</th>\n",
       "      <td>Tadahiro Kosaka</td>\n",
       "      <td>M</td>\n",
       "      <td>28.0</td>\n",
       "      <td>179.0</td>\n",
       "      <td>65.0</td>\n",
       "      <td>Japan</td>\n",
       "      <td>JPN</td>\n",
       "      <td>1988 Summer</td>\n",
       "      <td>1988</td>\n",
       "      <td>Summer</td>\n",
       "      <td>Seoul</td>\n",
       "      <td>Athletics</td>\n",
       "      <td>Athletics Men's 50 kilometres Walk</td>\n",
       "      <td>No Medal</td>\n",
       "    </tr>\n",
       "    <tr>\n",
       "      <th>2</th>\n",
       "      <td>Marano Bucio Ramrez</td>\n",
       "      <td>M</td>\n",
       "      <td>33.0</td>\n",
       "      <td>168.0</td>\n",
       "      <td>72.0</td>\n",
       "      <td>Mexico</td>\n",
       "      <td>MEX</td>\n",
       "      <td>1976 Summer</td>\n",
       "      <td>1976</td>\n",
       "      <td>Summer</td>\n",
       "      <td>Montreal</td>\n",
       "      <td>Equestrianism</td>\n",
       "      <td>Equestrianism Mixed Three-Day Event, Individual</td>\n",
       "      <td>No Medal</td>\n",
       "    </tr>\n",
       "    <tr>\n",
       "      <th>3</th>\n",
       "      <td>Hubert Van Nerom</td>\n",
       "      <td>M</td>\n",
       "      <td>28.0</td>\n",
       "      <td>NaN</td>\n",
       "      <td>NaN</td>\n",
       "      <td>Belgium</td>\n",
       "      <td>BEL</td>\n",
       "      <td>1936 Summer</td>\n",
       "      <td>1936</td>\n",
       "      <td>Summer</td>\n",
       "      <td>Berlin</td>\n",
       "      <td>Fencing</td>\n",
       "      <td>Fencing Men's Sabre, Team</td>\n",
       "      <td>No Medal</td>\n",
       "    </tr>\n",
       "    <tr>\n",
       "      <th>4</th>\n",
       "      <td>Per Owe Adamson</td>\n",
       "      <td>M</td>\n",
       "      <td>25.0</td>\n",
       "      <td>171.0</td>\n",
       "      <td>65.0</td>\n",
       "      <td>Sweden</td>\n",
       "      <td>SWE</td>\n",
       "      <td>1960 Summer</td>\n",
       "      <td>1960</td>\n",
       "      <td>Summer</td>\n",
       "      <td>Roma</td>\n",
       "      <td>Cycling</td>\n",
       "      <td>Cycling Men's Road Race, Individual</td>\n",
       "      <td>No Medal</td>\n",
       "    </tr>\n",
       "  </tbody>\n",
       "</table>\n",
       "</div>"
      ],
      "text/plain": [
       "                  Name Sex   Age  Height  Weight                  Team  NOC  \\\n",
       "0         Ahmed Goneim   M   NaN     NaN     NaN  United Arab Republic  UAR   \n",
       "1      Tadahiro Kosaka   M  28.0   179.0    65.0                 Japan  JPN   \n",
       "2  Marano Bucio Ramrez   M  33.0   168.0    72.0                Mexico  MEX   \n",
       "3     Hubert Van Nerom   M  28.0     NaN     NaN               Belgium  BEL   \n",
       "4      Per Owe Adamson   M  25.0   171.0    65.0                Sweden  SWE   \n",
       "\n",
       "         Games  Year  Season      City          Sport  \\\n",
       "0  1960 Summer  1960  Summer      Roma     Gymnastics   \n",
       "1  1988 Summer  1988  Summer     Seoul      Athletics   \n",
       "2  1976 Summer  1976  Summer  Montreal  Equestrianism   \n",
       "3  1936 Summer  1936  Summer    Berlin        Fencing   \n",
       "4  1960 Summer  1960  Summer      Roma        Cycling   \n",
       "\n",
       "                                             Event     Medal  \n",
       "0                  Gymnastics Men's Floor Exercise  No Medal  \n",
       "1               Athletics Men's 50 kilometres Walk  No Medal  \n",
       "2  Equestrianism Mixed Three-Day Event, Individual  No Medal  \n",
       "3                        Fencing Men's Sabre, Team  No Medal  \n",
       "4              Cycling Men's Road Race, Individual  No Medal  "
      ]
     },
     "execution_count": 69,
     "metadata": {},
     "output_type": "execute_result"
    }
   ],
   "source": [
    "df = df.drop(df.columns[0], axis=1)\n",
    "df.head()"
   ]
  },
  {
   "cell_type": "code",
   "execution_count": 105,
   "metadata": {},
   "outputs": [
    {
     "name": "stdout",
     "output_type": "stream",
     "text": [
      "<class 'pandas.core.frame.DataFrame'>\n",
      "RangeIndex: 8048 entries, 0 to 8047\n",
      "Data columns (total 14 columns):\n",
      " #   Column               Non-Null Count  Dtype  \n",
      "---  ------               --------------  -----  \n",
      " 0   Athlete_Name         8048 non-null   object \n",
      " 1   Athlete_Sex          8048 non-null   object \n",
      " 2   Athlete_Age          7781 non-null   float64\n",
      " 3   Athlete_Height (cm)  6273 non-null   float64\n",
      " 4   Athlete_Weight (Kg)  6184 non-null   float64\n",
      " 5   Team                 8048 non-null   object \n",
      " 6   NOC                  8048 non-null   object \n",
      " 7   Games                8048 non-null   object \n",
      " 8   Year                 8048 non-null   int64  \n",
      " 9   Season               8048 non-null   object \n",
      " 10  City                 8048 non-null   object \n",
      " 11  Sport                8048 non-null   object \n",
      " 12  Event                8048 non-null   object \n",
      " 13  Medal                8048 non-null   object \n",
      "dtypes: float64(3), int64(1), object(10)\n",
      "memory usage: 880.4+ KB\n"
     ]
    }
   ],
   "source": [
    "df_o = df.rename(columns = {\n",
    "    'ID' : 'Athlete_ID' ,\n",
    "    'Name' : 'Athlete_Name' ,\n",
    "    'Sex' : 'Athlete_Sex' ,\n",
    "    'Age' : 'Athlete_Age' ,\n",
    "    'Height' : 'Athlete_Height (cm)' ,\n",
    "    'Weight' : 'Athlete_Weight (Kg)' ,\n",
    "    \n",
    "})\n",
    "df_o.info()\n",
    "df_l = df_o.copy()"
   ]
  },
  {
   "cell_type": "markdown",
   "metadata": {},
   "source": [
    "## Determine **distinct** values."
   ]
  },
  {
   "cell_type": "code",
   "execution_count": 71,
   "metadata": {},
   "outputs": [
    {
     "data": {
      "text/plain": [
       "array(['M', 'F'], dtype=object)"
      ]
     },
     "execution_count": 71,
     "metadata": {},
     "output_type": "execute_result"
    }
   ],
   "source": [
    "df_o['Athlete_Sex'].unique()"
   ]
  },
  {
   "cell_type": "code",
   "execution_count": 72,
   "metadata": {},
   "outputs": [
    {
     "data": {
      "text/plain": [
       "2"
      ]
     },
     "execution_count": 72,
     "metadata": {},
     "output_type": "execute_result"
    }
   ],
   "source": [
    "df_o['Athlete_Sex'].nunique()"
   ]
  },
  {
   "cell_type": "code",
   "execution_count": 73,
   "metadata": {},
   "outputs": [
    {
     "data": {
      "text/plain": [
       "array([nan, 28., 33., 25., 18., 23., 22., 32., 21., 53., 20., 43., 27.,\n",
       "       29., 24., 31., 19., 36., 26., 34., 16., 42., 30., 74., 17., 41.,\n",
       "       15., 35., 65., 71., 40., 45., 44., 39., 38., 48., 47., 73., 37.,\n",
       "       61., 56., 14., 13., 46., 57., 49., 52., 50., 55., 63., 64., 51.,\n",
       "       67., 60., 12., 59., 58., 75., 72., 70.])"
      ]
     },
     "execution_count": 73,
     "metadata": {},
     "output_type": "execute_result"
    }
   ],
   "source": [
    "df_o['Athlete_Age'].unique()"
   ]
  },
  {
   "cell_type": "code",
   "execution_count": 74,
   "metadata": {},
   "outputs": [
    {
     "data": {
      "text/plain": [
       "59"
      ]
     },
     "execution_count": 74,
     "metadata": {},
     "output_type": "execute_result"
    }
   ],
   "source": [
    "df_o['Athlete_Age'].nunique()"
   ]
  },
  {
   "cell_type": "code",
   "execution_count": 75,
   "metadata": {},
   "outputs": [
    {
     "data": {
      "text/plain": [
       "array([ nan, 179., 168., 171., 184., 175., 178., 180., 182., 161., 155.,\n",
       "       162., 190., 186., 170., 173., 169., 154., 172., 203., 185., 166.,\n",
       "       191., 183., 160., 174., 198., 187., 163., 167., 148., 192., 164.,\n",
       "       158., 156., 197., 188., 181., 177., 176., 159., 165., 189., 157.,\n",
       "       193., 196., 153., 150., 194., 213., 195., 208., 147., 151., 200.,\n",
       "       146., 216., 204., 202., 217., 144., 206., 152., 205., 201., 149.,\n",
       "       211., 199., 142., 136., 145., 207., 138., 210., 141.])"
      ]
     },
     "execution_count": 75,
     "metadata": {},
     "output_type": "execute_result"
    }
   ],
   "source": [
    "df_o['Athlete_Height (cm)'].unique()"
   ]
  },
  {
   "cell_type": "code",
   "execution_count": 76,
   "metadata": {},
   "outputs": [
    {
     "data": {
      "text/plain": [
       "74"
      ]
     },
     "execution_count": 76,
     "metadata": {},
     "output_type": "execute_result"
    }
   ],
   "source": [
    "df_o['Athlete_Height (cm)'].nunique()"
   ]
  },
  {
   "cell_type": "code",
   "execution_count": 77,
   "metadata": {},
   "outputs": [
    {
     "data": {
      "text/plain": [
       "array([         nan,  65.        ,  72.        ,  74.        ,\n",
       "        83.        ,  80.        ,  70.        ,  68.        ,\n",
       "        77.        ,  88.        ,  69.        ,  58.        ,\n",
       "        64.        ,  53.        ,  57.        ,  56.        ,\n",
       "        59.        ,  90.        , 103.        ,  60.        ,\n",
       "        78.        ,  63.        ,  52.        ,  66.        ,\n",
       "       120.        ,  54.        ,  62.        ,  92.        ,\n",
       "       100.        ,  75.        ,  84.        ,  55.        ,\n",
       "        81.        ,  38.        ,  74.5       ,  67.        ,\n",
       "        82.        ,  71.        , 109.        ,  76.        ,\n",
       "        87.        ,  50.        ,  91.        ,  89.        ,\n",
       "        85.        ,  79.        , 155.        ,  51.        ,\n",
       "        86.        ,  73.        ,  93.        , 115.        ,\n",
       "        95.        ,  94.        ,  46.        ,  47.        ,\n",
       "        40.        ,  96.        ,  61.        ,  48.        ,\n",
       "       102.        ,  97.        ,  39.        ,  49.        ,\n",
       "       113.        ,  76.5       ,  98.        ,  43.        ,\n",
       "       130.        , 107.        , 112.        ,  42.        ,\n",
       "       110.        ,  54.5       ,  69.5       , 122.        ,\n",
       "        99.        , 144.        ,  41.        ,  45.        ,\n",
       "       105.        , 129.        ,  55.5       ,  44.        ,\n",
       "       104.        ,  32.        ,  37.        ,  35.        ,\n",
       "        81.5       , 111.        ,  92.5       , 128.        ,\n",
       "        65.5       ,  34.        , 145.        , 150.        ,\n",
       "       127.        , 131.        , 143.        , 106.        ,\n",
       "       125.        , 108.        , 114.        , 139.        ,\n",
       "       141.        , 117.        , 118.        ,  59.5       ,\n",
       "       170.        , 106.5       ,  73.5       ,  86.5       ,\n",
       "        87.5       , 119.        , 137.5       , 101.        ,\n",
       "        60.5       , 116.        ,  30.        ,  66.5       ,\n",
       "        78.5       ,  33.        ,  67.5       , 137.        ,\n",
       "        52.5       , 140.        ,  68.5       ,  90.5       ,\n",
       "        85.5       , 126.        ,  77.33333333,  70.5       ,\n",
       "        63.5       ,  96.5       ,  28.        ,  83.5       ,\n",
       "       135.        ])"
      ]
     },
     "execution_count": 77,
     "metadata": {},
     "output_type": "execute_result"
    }
   ],
   "source": [
    "df_o['Athlete_Weight (Kg)'].unique()"
   ]
  },
  {
   "cell_type": "code",
   "execution_count": 78,
   "metadata": {},
   "outputs": [
    {
     "data": {
      "text/plain": [
       "136"
      ]
     },
     "execution_count": 78,
     "metadata": {},
     "output_type": "execute_result"
    }
   ],
   "source": [
    "df_o['Athlete_Weight (Kg)'].nunique()"
   ]
  },
  {
   "cell_type": "code",
   "execution_count": 79,
   "metadata": {},
   "outputs": [
    {
     "data": {
      "text/plain": [
       "array(['United Arab Republic', 'Japan', 'Mexico', 'Belgium', 'Sweden',\n",
       "       'Denmark', 'Italy', 'Georgia', 'Luxembourg', 'Spain',\n",
       "       'United States', 'Puerto Rico', 'Austria', 'Liechtenstein',\n",
       "       'Germany', 'Great Britain', 'Czechoslovakia', 'Greece',\n",
       "       'South Korea', 'France-3', 'Romania', 'China', 'Netherlands',\n",
       "       'Croatia', 'Venezuela', 'Canada', 'Australia', 'Iran', 'France',\n",
       "       'Chinese Taipei', 'Ukraine', 'Serbia and Montenegro',\n",
       "       'West Germany', 'Soviet Union', 'Mali', 'Antares', 'Poland',\n",
       "       'Trinidad and Tobago', 'Latvia', 'France-2', 'Bulgaria',\n",
       "       'Pakistan', 'Australia-1', 'Finland', 'Sierra Leone', 'Kyrgyzstan',\n",
       "       'Cuba', 'Ecuador', 'Yugoslavia', 'Algeria', 'Iceland', 'Hong Kong',\n",
       "       'New Zealand', 'Hungary', 'Turkey', 'Czech Republic', 'Kazakhstan',\n",
       "       'Panama', 'Ylliam II', 'Ireland', 'Zimbabwe', 'Switzerland',\n",
       "       'Unified Team', 'Chile', 'Jamaica', 'Kenya', 'Egypt', 'Russia',\n",
       "       'Qatar', 'South Africa', 'Seychelles', 'Bahrain', 'Ghana',\n",
       "       'Guatemala', 'Belarus', 'Slovenia', 'Japan-2', 'Lebanon', 'India',\n",
       "       'Argentina', 'Somalia', '30. Februar', 'Peru', 'Norway',\n",
       "       'Colombia', 'China-2', 'Uzbekistan', 'East Germany', 'Canada-2',\n",
       "       'Iraq', 'Angola', 'Cameroon', 'Brazil', 'Minerva Amsterdam',\n",
       "       'Congo (Kinshasa)', 'Ethiopia', 'Canada-1', 'Cyprus', 'Baby-1',\n",
       "       'Saar', 'Singapore', 'United States Virgin Islands-2',\n",
       "       'Montenegro', 'Afghanistan', 'Bosnia and Herzegovina', 'Sri Lanka',\n",
       "       'Bohemia', 'Thailand', 'Ukraine-2', 'United States-2', 'Malaysia',\n",
       "       'Portugal', 'Uruguay', 'Samoa', 'Nigeria', 'Indonesia',\n",
       "       'Austria-1', 'Morocco', 'Serbia', 'Slovakia', 'North Korea',\n",
       "       'Marinai della nave da guerra \"Varese\"',\n",
       "       'Royal Club Nautique de Gand', 'Moldova', 'Costa Rica',\n",
       "       \"Cote d'Ivoire\", 'Myanmar', 'Guinea Bissau', 'Belize',\n",
       "       'Azerbaijan', 'Haiti', 'Benin', 'Lithuania',\n",
       "       'Pan-Hellenic Athletic Club', 'Sweden-2', 'Gabon',\n",
       "       'Helsingfors R. K.', 'United States-3', 'France-1', 'Guam',\n",
       "       'Armenia', 'Tunisia', 'Gambia', 'Saudi Arabia', 'Russia-1',\n",
       "       'Kuwait', 'Cook Islands', 'Honduras', 'Estonia', 'Belgium-1',\n",
       "       'Nicaragua', 'Esterel-1', 'Pierre et Jean-4', 'Philippines',\n",
       "       'Individual Olympic Athletes', 'Bermuda', 'Fiji',\n",
       "       'Papua New Guinea', 'United States-1', 'Sudan', 'Lucky Star',\n",
       "       'Mauritius', 'Italy-2', 'Guyana', 'Germany-2', 'Mongolia',\n",
       "       'Vision', 'British Virgin Islands', 'Czech Republic-1', 'Tip',\n",
       "       'Silja', 'May Be VII', 'Israel', 'Central Turnverein, Chicago',\n",
       "       'Australasia', 'Oleander II', 'Libya', 'Hojwa', 'Uganda',\n",
       "       'Burundi', 'West Germany-2', 'Sildra-1', 'New College, Oxford-2',\n",
       "       'Soviet Union-3', 'Nautikos Omilos-3', 'Rwanda', 'Monaco',\n",
       "       'Greece-2', 'Danaldo', 'Antigua and Barbuda', 'Bronia',\n",
       "       'Turnverein Vorwrts, Cleveland', 'Solomon Islands', 'Latvia-1',\n",
       "       'Turkmenistan', 'Senegal', 'Toronto Argonauts', 'Scotia',\n",
       "       'Martha-1', 'Great Britain-1', 'Albania', 'Tanzania', 'China-3',\n",
       "       'China-1', 'India-1', 'Acipactli', 'Polyteknisk Roklub-1',\n",
       "       \"Qu'Importe\", 'Syria', 'Indonesia-2', 'Siames-Cat',\n",
       "       'Racing Club de France', 'Crabe II-4', 'Andorra',\n",
       "       'South St Louis Turnverein, St Louis', 'San Marino', 'Russia-2',\n",
       "       'American Samoa', 'Barbados', 'East Germany-2',\n",
       "       'Dominican Republic', 'United Arab Emirates', 'Romania-2',\n",
       "       'Gitana-21', 'Nigeria-2', 'Cayman Islands', 'Vinga-1',\n",
       "       'Yugoslavia-2', 'Germany-1', 'Rhodesia', 'Italy-1', 'Blue Red',\n",
       "       'Czechoslovakia-1', 'Spain-1', 'Bolivia', 'Liberia',\n",
       "       'Switzerland-2', 'Central African Republic', 'Slaghoken',\n",
       "       'Mystery', 'Buraddoo', 'Edelweiss II-1', 'Anitra', 'rn-2',\n",
       "       'Ceres II', 'Zambia', 'Poland-2', 'Great Britain-2',\n",
       "       'Burkina Faso', 'Orion', 'South Africa-2', 'Tonga', 'Japan-1',\n",
       "       'Mebi', 'Namibia', 'Botswana', 'Bahamas', 'South Korea-2',\n",
       "       'Pan II', 'Paraguay', 'West Indies Federation', 'Crabe I-11',\n",
       "       'Teresita', 'Leander Club-1', 'Hong Kong-1', 'Calcinhas',\n",
       "       'Belgium-4', 'Soviet Union-2', 'Niger', 'Ylliam VII', 'Athens-2',\n",
       "       'Lesotho', 'Arcturus', 'West Germany-1', 'Chuckles',\n",
       "       'Germania Ruder Club, Hamburg', 'Swaziland', 'Oman', 'Eritrea',\n",
       "       'Mozambique', 'Malawi', 'Moseley Wanderers',\n",
       "       'Large boat, Central Naval Prep School \"Poros\"-1',\n",
       "       'Greenoaks Dundee', 'Spirit III', 'Guinea', 'Jordan', 'Romania-1',\n",
       "       'Togo', 'Palestine', 'Tritons Lillois-2',\n",
       "       'Liverpool Police Team-2', 'Tajikistan', 'Allegro',\n",
       "       'Soviet Union-1', 'Belgium-2', 'Austria-2', 'Yangon', 'Llanoria',\n",
       "       'Sweden-1', 'Peiraikos Syndesmos-2', 'Grenada', 'Mignon-3',\n",
       "       'Unified Team-1', 'South Vietnam',\n",
       "       'Union des Socits Franais de Sports Athletiques', 'Nephos I',\n",
       "       'Kurush IV', 'Pannonia RC/National RC', 'Italia', 'East Germany-1',\n",
       "       'Century Boat Club-1', 'Malta', 'Chamukina', 'Laos',\n",
       "       'Galt Football Club', 'Switzerland-1', 'Ireland-2', 'Frieda',\n",
       "       'Cincinnati Archers', 'United States Virgin Islands', 'Norway-3',\n",
       "       'Angelita', 'Socialer Turnverein, Detroit', 'Argentina-1',\n",
       "       'Freddy', 'Tournade-40', 'Bangladesh', 'Donar III', 'Australia-2',\n",
       "       'Yeoman VII', 'El Salvador', 'Ravenswood Boat Club-2',\n",
       "       'Marmi II-1', 'Madagascar', 'Balaton', 'Djinn', 'Satchmo',\n",
       "       'Saint Vincent and the Grenadines', 'Western Rowing Club-3',\n",
       "       'South Korea-1', 'Cambria', 'Hungaria Evezos Egylet', 'Sheerio',\n",
       "       'Maldives', 'Upton Park FC', 'Mauritania', 'Hatuey', 'Djibouti',\n",
       "       'Pam', 'Calimucho', 'Malaya', 'Gwendoline-2', 'Vinha', 'Nepal',\n",
       "       'Belgium-3'], dtype=object)"
      ]
     },
     "execution_count": 79,
     "metadata": {},
     "output_type": "execute_result"
    }
   ],
   "source": [
    "df_o['Team'].unique()"
   ]
  },
  {
   "cell_type": "code",
   "execution_count": 80,
   "metadata": {},
   "outputs": [
    {
     "data": {
      "text/plain": [
       "356"
      ]
     },
     "execution_count": 80,
     "metadata": {},
     "output_type": "execute_result"
    }
   ],
   "source": [
    "df_o['Team'].nunique()"
   ]
  },
  {
   "cell_type": "code",
   "execution_count": 81,
   "metadata": {},
   "outputs": [
    {
     "data": {
      "text/plain": [
       "array(['1960 Summer', '1988 Summer', '1976 Summer', '1936 Summer',\n",
       "       '2012 Summer', '1964 Summer', '2014 Winter', '1952 Summer',\n",
       "       '1932 Summer', '1920 Summer', '1968 Summer', '1994 Winter',\n",
       "       '1992 Summer', '1972 Summer', '1896 Summer', '2000 Summer',\n",
       "       '1924 Summer', '2016 Summer', '1972 Winter', '2006 Winter',\n",
       "       '1964 Winter', '2010 Winter', '1998 Winter', '1928 Summer',\n",
       "       '1904 Summer', '2002 Winter', '2004 Summer', '1996 Summer',\n",
       "       '1984 Summer', '1948 Summer', '1980 Summer', '1956 Summer',\n",
       "       '2008 Summer', '1936 Winter', '1912 Summer', '1984 Winter',\n",
       "       '1906 Summer', '1908 Summer', '1988 Winter', '1928 Winter',\n",
       "       '1968 Winter', '1992 Winter', '1948 Winter', '1960 Winter',\n",
       "       '1956 Winter', '1900 Summer', '1952 Winter', '1924 Winter',\n",
       "       '1980 Winter', '1976 Winter', '1932 Winter'], dtype=object)"
      ]
     },
     "execution_count": 81,
     "metadata": {},
     "output_type": "execute_result"
    }
   ],
   "source": [
    "df_o['Games'].unique()"
   ]
  },
  {
   "cell_type": "code",
   "execution_count": 82,
   "metadata": {},
   "outputs": [
    {
     "data": {
      "text/plain": [
       "51"
      ]
     },
     "execution_count": 82,
     "metadata": {},
     "output_type": "execute_result"
    }
   ],
   "source": [
    "df_o['Games'].nunique()"
   ]
  },
  {
   "cell_type": "code",
   "execution_count": 83,
   "metadata": {},
   "outputs": [
    {
     "data": {
      "text/plain": [
       "array(['Gymnastics', 'Athletics', 'Equestrianism', 'Fencing', 'Cycling',\n",
       "       'Sailing', 'Rowing', 'Alpine Skiing', 'Art Competitions',\n",
       "       'Tug-Of-War', 'Swimming', 'Ice Hockey', 'Shooting', 'Diving',\n",
       "       'Tennis', 'Cross Country Skiing', 'Luge', 'Volleyball',\n",
       "       'Wrestling', 'Snowboarding', 'Archery',\n",
       "       'Short Track Speed Skating', 'Speed Skating', 'Nordic Combined',\n",
       "       'Basketball', 'Curling', 'Baseball', 'Boxing', 'Biathlon',\n",
       "       'Figure Skating', 'Beach Volleyball', 'Football', 'Hockey',\n",
       "       'Table Tennis', 'Weightlifting', 'Water Polo', 'Judo', 'Handball',\n",
       "       'Badminton', 'Canoeing', 'Trampolining', 'Bobsleigh',\n",
       "       'Freestyle Skiing', 'Modern Pentathlon', 'Synchronized Swimming',\n",
       "       'Softball', 'Ski Jumping', 'Croquet', 'Taekwondo', 'Skeleton',\n",
       "       'Military Ski Patrol', 'Rhythmic Gymnastics', 'Triathlon',\n",
       "       'Rugby Sevens', 'Golf', 'Lacrosse', 'Rugby', 'Cricket'],\n",
       "      dtype=object)"
      ]
     },
     "execution_count": 83,
     "metadata": {},
     "output_type": "execute_result"
    }
   ],
   "source": [
    "df_o['Sport'].unique()"
   ]
  },
  {
   "cell_type": "code",
   "execution_count": 84,
   "metadata": {},
   "outputs": [
    {
     "data": {
      "text/plain": [
       "58"
      ]
     },
     "execution_count": 84,
     "metadata": {},
     "output_type": "execute_result"
    }
   ],
   "source": [
    "df_o['Sport'].nunique()"
   ]
  },
  {
   "cell_type": "code",
   "execution_count": 85,
   "metadata": {},
   "outputs": [
    {
     "data": {
      "text/plain": [
       "array(['No Medal', 'Silver', 'Bronze', 'Gold'], dtype=object)"
      ]
     },
     "execution_count": 85,
     "metadata": {},
     "output_type": "execute_result"
    }
   ],
   "source": [
    "df_o['Medal'].unique()"
   ]
  },
  {
   "cell_type": "code",
   "execution_count": 86,
   "metadata": {},
   "outputs": [
    {
     "data": {
      "text/plain": [
       "4"
      ]
     },
     "execution_count": 86,
     "metadata": {},
     "output_type": "execute_result"
    }
   ],
   "source": [
    "df_o['Medal'].nunique()"
   ]
  },
  {
   "cell_type": "markdown",
   "metadata": {},
   "source": [
    "## Data Cleaning - Dropping NaN"
   ]
  },
  {
   "cell_type": "code",
   "execution_count": 87,
   "metadata": {},
   "outputs": [
    {
     "data": {
      "text/plain": [
       "Athlete_Name              0\n",
       "Athlete_Sex               0\n",
       "Athlete_Age             267\n",
       "Athlete_Height (cm)    1775\n",
       "Athlete_Weight (Kg)    1864\n",
       "Team                      0\n",
       "NOC                       0\n",
       "Games                     0\n",
       "Year                      0\n",
       "Season                    0\n",
       "City                      0\n",
       "Sport                     0\n",
       "Event                     0\n",
       "Medal                     0\n",
       "dtype: int64"
      ]
     },
     "execution_count": 87,
     "metadata": {},
     "output_type": "execute_result"
    }
   ],
   "source": [
    "df_o.isna().sum()"
   ]
  },
  {
   "cell_type": "code",
   "execution_count": 88,
   "metadata": {},
   "outputs": [
    {
     "data": {
      "text/plain": [
       "Athlete_Name              0\n",
       "Athlete_Sex               0\n",
       "Athlete_Age               0\n",
       "Athlete_Height (cm)    1535\n",
       "Athlete_Weight (Kg)    1617\n",
       "Team                      0\n",
       "NOC                       0\n",
       "Games                     0\n",
       "Year                      0\n",
       "Season                    0\n",
       "City                      0\n",
       "Sport                     0\n",
       "Event                     0\n",
       "Medal                     0\n",
       "dtype: int64"
      ]
     },
     "execution_count": 88,
     "metadata": {},
     "output_type": "execute_result"
    }
   ],
   "source": [
    "# Cleaning Athlete_Age\n",
    "\n",
    "df_o = df_o.dropna(subset=['Athlete_Age'])\n",
    "df_o.isna().sum()"
   ]
  },
  {
   "cell_type": "code",
   "execution_count": 89,
   "metadata": {},
   "outputs": [
    {
     "data": {
      "text/plain": [
       "Athlete_Name             0\n",
       "Athlete_Sex              0\n",
       "Athlete_Age              0\n",
       "Athlete_Height (cm)      0\n",
       "Athlete_Weight (Kg)    124\n",
       "Team                     0\n",
       "NOC                      0\n",
       "Games                    0\n",
       "Year                     0\n",
       "Season                   0\n",
       "City                     0\n",
       "Sport                    0\n",
       "Event                    0\n",
       "Medal                    0\n",
       "dtype: int64"
      ]
     },
     "execution_count": 89,
     "metadata": {},
     "output_type": "execute_result"
    }
   ],
   "source": [
    "# Cleaning Athlete_Height\n",
    "\n",
    "df_o = df_o.dropna(subset=['Athlete_Height (cm)'])\n",
    "df_o.isna().sum()"
   ]
  },
  {
   "cell_type": "code",
   "execution_count": 90,
   "metadata": {},
   "outputs": [
    {
     "data": {
      "text/plain": [
       "Athlete_Name           0\n",
       "Athlete_Sex            0\n",
       "Athlete_Age            0\n",
       "Athlete_Height (cm)    0\n",
       "Athlete_Weight (Kg)    0\n",
       "Team                   0\n",
       "NOC                    0\n",
       "Games                  0\n",
       "Year                   0\n",
       "Season                 0\n",
       "City                   0\n",
       "Sport                  0\n",
       "Event                  0\n",
       "Medal                  0\n",
       "dtype: int64"
      ]
     },
     "execution_count": 90,
     "metadata": {},
     "output_type": "execute_result"
    }
   ],
   "source": [
    "# Cleaning Athlete_Weight\n",
    "\n",
    "df_o = df_o.dropna(subset=['Athlete_Weight (Kg)'])\n",
    "df_o.isna().sum()"
   ]
  },
  {
   "cell_type": "code",
   "execution_count": 91,
   "metadata": {},
   "outputs": [
    {
     "data": {
      "text/plain": [
       "Athlete_Name           0\n",
       "Athlete_Sex            0\n",
       "Athlete_Age            0\n",
       "Athlete_Height (cm)    0\n",
       "Athlete_Weight (Kg)    0\n",
       "Team                   0\n",
       "NOC                    0\n",
       "Games                  0\n",
       "Year                   0\n",
       "Season                 0\n",
       "City                   0\n",
       "Sport                  0\n",
       "Event                  0\n",
       "Medal                  0\n",
       "dtype: int64"
      ]
     },
     "execution_count": 91,
     "metadata": {},
     "output_type": "execute_result"
    }
   ],
   "source": [
    "df_o = df_o.dropna(subset=['Athlete_Age','Athlete_Height (cm)','Athlete_Weight (Kg)'])\n",
    "df_o.isna().sum()"
   ]
  },
  {
   "cell_type": "code",
   "execution_count": 106,
   "metadata": {},
   "outputs": [
    {
     "name": "stdout",
     "output_type": "stream",
     "text": [
      "<class 'pandas.core.frame.DataFrame'>\n",
      "RangeIndex: 8048 entries, 0 to 8047\n",
      "Data columns (total 14 columns):\n",
      " #   Column               Non-Null Count  Dtype  \n",
      "---  ------               --------------  -----  \n",
      " 0   Athlete_Name         8048 non-null   object \n",
      " 1   Athlete_Sex          8048 non-null   object \n",
      " 2   Athlete_Age          7781 non-null   float64\n",
      " 3   Athlete_Height (cm)  6273 non-null   float64\n",
      " 4   Athlete_Weight (Kg)  6184 non-null   float64\n",
      " 5   Team                 8048 non-null   object \n",
      " 6   NOC                  8048 non-null   object \n",
      " 7   Games                8048 non-null   object \n",
      " 8   Year                 8048 non-null   int64  \n",
      " 9   Season               8048 non-null   object \n",
      " 10  City                 8048 non-null   object \n",
      " 11  Sport                8048 non-null   object \n",
      " 12  Event                8048 non-null   object \n",
      " 13  Medal                8048 non-null   object \n",
      "dtypes: float64(3), int64(1), object(10)\n",
      "memory usage: 880.4+ KB\n"
     ]
    }
   ],
   "source": [
    "df_l = df_o.copy()\n",
    "df_l.info()"
   ]
  },
  {
   "cell_type": "code",
   "execution_count": 110,
   "metadata": {},
   "outputs": [
    {
     "name": "stdout",
     "output_type": "stream",
     "text": [
      "25.51561495951677\n"
     ]
    }
   ],
   "source": [
    "# Cleaning Athlete_Age with Mean\n",
    "\n",
    "Aage_mean = df_o['Athlete_Age'].mean()\n",
    "print(Aage_mean)\n",
    "df_l['Athlete_Age'] = df_l['Athlete_Age'].fillna(Aage_mean)"
   ]
  },
  {
   "cell_type": "code",
   "execution_count": 111,
   "metadata": {},
   "outputs": [
    {
     "name": "stdout",
     "output_type": "stream",
     "text": [
      "175.31898613103778\n"
     ]
    }
   ],
   "source": [
    "# Cleaning Athlete_Height with Mean\n",
    "\n",
    "Aheight_mean = df_o['Athlete_Height (cm)'].mean()\n",
    "print(Aheight_mean)\n",
    "df_l['Athlete_Height'] = df_l['Athlete_Height (cm)'].fillna(Aheight_mean)"
   ]
  },
  {
   "cell_type": "code",
   "execution_count": 112,
   "metadata": {},
   "outputs": [
    {
     "name": "stdout",
     "output_type": "stream",
     "text": [
      "70.67057460112117\n"
     ]
    }
   ],
   "source": [
    "# Cleaning Athlete_Weight with Mean\n",
    "\n",
    "Aweight_mean = df_o['Athlete_Weight (Kg)'].mean()\n",
    "print(Aweight_mean)\n",
    "df_l['Athlete_Weight'] = df_l['Athlete_Weight (Kg)'].fillna(Aweight_mean)"
   ]
  },
  {
   "cell_type": "code",
   "execution_count": 107,
   "metadata": {},
   "outputs": [
    {
     "name": "stdout",
     "output_type": "stream",
     "text": [
      "<class 'pandas.core.frame.DataFrame'>\n",
      "RangeIndex: 8048 entries, 0 to 8047\n",
      "Data columns (total 14 columns):\n",
      " #   Column               Non-Null Count  Dtype  \n",
      "---  ------               --------------  -----  \n",
      " 0   Athlete_Name         8048 non-null   object \n",
      " 1   Athlete_Sex          8048 non-null   object \n",
      " 2   Athlete_Age          7781 non-null   float64\n",
      " 3   Athlete_Height (cm)  6273 non-null   float64\n",
      " 4   Athlete_Weight (Kg)  6184 non-null   float64\n",
      " 5   Team                 8048 non-null   object \n",
      " 6   NOC                  8048 non-null   object \n",
      " 7   Games                8048 non-null   object \n",
      " 8   Year                 8048 non-null   int64  \n",
      " 9   Season               8048 non-null   object \n",
      " 10  City                 8048 non-null   object \n",
      " 11  Sport                8048 non-null   object \n",
      " 12  Event                8048 non-null   object \n",
      " 13  Medal                8048 non-null   object \n",
      "dtypes: float64(3), int64(1), object(10)\n",
      "memory usage: 880.4+ KB\n"
     ]
    }
   ],
   "source": [
    "df_l.info()"
   ]
  },
  {
   "cell_type": "code",
   "execution_count": 113,
   "metadata": {},
   "outputs": [
    {
     "data": {
      "text/html": [
       "<div>\n",
       "<style scoped>\n",
       "    .dataframe tbody tr th:only-of-type {\n",
       "        vertical-align: middle;\n",
       "    }\n",
       "\n",
       "    .dataframe tbody tr th {\n",
       "        vertical-align: top;\n",
       "    }\n",
       "\n",
       "    .dataframe thead th {\n",
       "        text-align: right;\n",
       "    }\n",
       "</style>\n",
       "<table border=\"1\" class=\"dataframe\">\n",
       "  <thead>\n",
       "    <tr style=\"text-align: right;\">\n",
       "      <th></th>\n",
       "      <th>Athlete_Age</th>\n",
       "      <th>Athlete_Height (cm)</th>\n",
       "      <th>Athlete_Weight (Kg)</th>\n",
       "      <th>Year</th>\n",
       "      <th>Athlete_Height</th>\n",
       "      <th>Athlete_Weight</th>\n",
       "    </tr>\n",
       "  </thead>\n",
       "  <tbody>\n",
       "    <tr>\n",
       "      <th>count</th>\n",
       "      <td>8048.000000</td>\n",
       "      <td>6273.000000</td>\n",
       "      <td>6184.000000</td>\n",
       "      <td>8048.000000</td>\n",
       "      <td>8048.000000</td>\n",
       "      <td>8048.000000</td>\n",
       "    </tr>\n",
       "    <tr>\n",
       "      <th>mean</th>\n",
       "      <td>25.515615</td>\n",
       "      <td>175.318986</td>\n",
       "      <td>70.670575</td>\n",
       "      <td>1978.129225</td>\n",
       "      <td>175.318986</td>\n",
       "      <td>70.670575</td>\n",
       "    </tr>\n",
       "    <tr>\n",
       "      <th>std</th>\n",
       "      <td>6.103752</td>\n",
       "      <td>10.418619</td>\n",
       "      <td>14.330282</td>\n",
       "      <td>29.946760</td>\n",
       "      <td>9.198059</td>\n",
       "      <td>12.561380</td>\n",
       "    </tr>\n",
       "    <tr>\n",
       "      <th>min</th>\n",
       "      <td>12.000000</td>\n",
       "      <td>136.000000</td>\n",
       "      <td>28.000000</td>\n",
       "      <td>1896.000000</td>\n",
       "      <td>136.000000</td>\n",
       "      <td>28.000000</td>\n",
       "    </tr>\n",
       "    <tr>\n",
       "      <th>25%</th>\n",
       "      <td>22.000000</td>\n",
       "      <td>168.000000</td>\n",
       "      <td>60.000000</td>\n",
       "      <td>1960.000000</td>\n",
       "      <td>170.000000</td>\n",
       "      <td>63.000000</td>\n",
       "    </tr>\n",
       "    <tr>\n",
       "      <th>50%</th>\n",
       "      <td>25.000000</td>\n",
       "      <td>175.000000</td>\n",
       "      <td>70.000000</td>\n",
       "      <td>1988.000000</td>\n",
       "      <td>175.318986</td>\n",
       "      <td>70.670575</td>\n",
       "    </tr>\n",
       "    <tr>\n",
       "      <th>75%</th>\n",
       "      <td>28.000000</td>\n",
       "      <td>182.000000</td>\n",
       "      <td>80.000000</td>\n",
       "      <td>2002.000000</td>\n",
       "      <td>180.000000</td>\n",
       "      <td>76.000000</td>\n",
       "    </tr>\n",
       "    <tr>\n",
       "      <th>max</th>\n",
       "      <td>75.000000</td>\n",
       "      <td>217.000000</td>\n",
       "      <td>170.000000</td>\n",
       "      <td>2016.000000</td>\n",
       "      <td>217.000000</td>\n",
       "      <td>170.000000</td>\n",
       "    </tr>\n",
       "  </tbody>\n",
       "</table>\n",
       "</div>"
      ],
      "text/plain": [
       "       Athlete_Age  Athlete_Height (cm)  Athlete_Weight (Kg)         Year  \\\n",
       "count  8048.000000          6273.000000          6184.000000  8048.000000   \n",
       "mean     25.515615           175.318986            70.670575  1978.129225   \n",
       "std       6.103752            10.418619            14.330282    29.946760   \n",
       "min      12.000000           136.000000            28.000000  1896.000000   \n",
       "25%      22.000000           168.000000            60.000000  1960.000000   \n",
       "50%      25.000000           175.000000            70.000000  1988.000000   \n",
       "75%      28.000000           182.000000            80.000000  2002.000000   \n",
       "max      75.000000           217.000000           170.000000  2016.000000   \n",
       "\n",
       "       Athlete_Height  Athlete_Weight  \n",
       "count     8048.000000     8048.000000  \n",
       "mean       175.318986       70.670575  \n",
       "std          9.198059       12.561380  \n",
       "min        136.000000       28.000000  \n",
       "25%        170.000000       63.000000  \n",
       "50%        175.318986       70.670575  \n",
       "75%        180.000000       76.000000  \n",
       "max        217.000000      170.000000  "
      ]
     },
     "execution_count": 113,
     "metadata": {},
     "output_type": "execute_result"
    }
   ],
   "source": [
    "df_l.describe()"
   ]
  },
  {
   "cell_type": "code",
   "execution_count": 99,
   "metadata": {},
   "outputs": [
    {
     "name": "stdout",
     "output_type": "stream",
     "text": [
      "Athlete_Name           0\n",
      "Athlete_Sex            0\n",
      "Athlete_Age            0\n",
      "Athlete_Height (cm)    0\n",
      "Athlete_Weight (Kg)    0\n",
      "Team                   0\n",
      "NOC                    0\n",
      "Games                  0\n",
      "Year                   0\n",
      "Season                 0\n",
      "City                   0\n",
      "Sport                  0\n",
      "Event                  0\n",
      "Medal                  0\n",
      "dtype: int64\n"
     ]
    }
   ],
   "source": [
    "print(df_o.isnull().sum())\n"
   ]
  },
  {
   "cell_type": "code",
   "execution_count": 108,
   "metadata": {},
   "outputs": [
    {
     "name": "stdout",
     "output_type": "stream",
     "text": [
      "<class 'pandas.core.frame.DataFrame'>\n",
      "RangeIndex: 8048 entries, 0 to 8047\n",
      "Data columns (total 14 columns):\n",
      " #   Column               Non-Null Count  Dtype  \n",
      "---  ------               --------------  -----  \n",
      " 0   Athlete_Name         8048 non-null   object \n",
      " 1   Athlete_Sex          8048 non-null   object \n",
      " 2   Athlete_Age          7781 non-null   float64\n",
      " 3   Athlete_Height (cm)  6273 non-null   float64\n",
      " 4   Athlete_Weight (Kg)  6184 non-null   float64\n",
      " 5   Team                 8048 non-null   object \n",
      " 6   NOC                  8048 non-null   object \n",
      " 7   Games                8048 non-null   object \n",
      " 8   Year                 8048 non-null   int64  \n",
      " 9   Season               8048 non-null   object \n",
      " 10  City                 8048 non-null   object \n",
      " 11  Sport                8048 non-null   object \n",
      " 12  Event                8048 non-null   object \n",
      " 13  Medal                8048 non-null   object \n",
      "dtypes: float64(3), int64(1), object(10)\n",
      "memory usage: 880.4+ KB\n",
      "None\n"
     ]
    }
   ],
   "source": [
    "print(df_o.info())\n"
   ]
  },
  {
   "cell_type": "markdown",
   "metadata": {},
   "source": [
    "## Lambda Function"
   ]
  },
  {
   "cell_type": "code",
   "execution_count": 101,
   "metadata": {},
   "outputs": [
    {
     "data": {
      "text/plain": [
       "Athlete_Name           0\n",
       "Athlete_Sex            0\n",
       "Athlete_Age            0\n",
       "Athlete_Height (cm)    0\n",
       "Athlete_Weight (Kg)    0\n",
       "Team                   0\n",
       "NOC                    0\n",
       "Games                  0\n",
       "Year                   0\n",
       "Season                 0\n",
       "City                   0\n",
       "Sport                  0\n",
       "Event                  0\n",
       "Medal                  0\n",
       "Athlete_Height         0\n",
       "Athlete_Weight         0\n",
       "dtype: int64"
      ]
     },
     "execution_count": 101,
     "metadata": {},
     "output_type": "execute_result"
    }
   ],
   "source": [
    "df_l.isna().sum()"
   ]
  },
  {
   "cell_type": "code",
   "execution_count": 102,
   "metadata": {},
   "outputs": [
    {
     "data": {
      "text/plain": [
       "Athlete_Name           0\n",
       "Athlete_Sex            0\n",
       "Athlete_Age            0\n",
       "Athlete_Height (cm)    0\n",
       "Athlete_Weight (Kg)    0\n",
       "Team                   0\n",
       "NOC                    0\n",
       "Games                  0\n",
       "Year                   0\n",
       "Season                 0\n",
       "City                   0\n",
       "Sport                  0\n",
       "Event                  0\n",
       "Medal                  0\n",
       "Athlete_Height         0\n",
       "Athlete_Weight         0\n",
       "dtype: int64"
      ]
     },
     "execution_count": 102,
     "metadata": {},
     "output_type": "execute_result"
    }
   ],
   "source": [
    "n_columns = ['Athlete_Age',\n",
    "             'Athlete_Height (cm)',\n",
    "             'Athlete_Weight (Kg)',]\n",
    "df_l[n_columns] = df_l[n_columns].apply(lambda n : n.fillna(n.mean()))\n",
    "df_l.isna().sum()"
   ]
  },
  {
   "cell_type": "code",
   "execution_count": 109,
   "metadata": {},
   "outputs": [
    {
     "name": "stdout",
     "output_type": "stream",
     "text": [
      "<class 'pandas.core.frame.DataFrame'>\n",
      "RangeIndex: 8048 entries, 0 to 8047\n",
      "Data columns (total 14 columns):\n",
      " #   Column               Non-Null Count  Dtype  \n",
      "---  ------               --------------  -----  \n",
      " 0   Athlete_Name         8048 non-null   object \n",
      " 1   Athlete_Sex          8048 non-null   object \n",
      " 2   Athlete_Age          7781 non-null   float64\n",
      " 3   Athlete_Height (cm)  6273 non-null   float64\n",
      " 4   Athlete_Weight (Kg)  6184 non-null   float64\n",
      " 5   Team                 8048 non-null   object \n",
      " 6   NOC                  8048 non-null   object \n",
      " 7   Games                8048 non-null   object \n",
      " 8   Year                 8048 non-null   int64  \n",
      " 9   Season               8048 non-null   object \n",
      " 10  City                 8048 non-null   object \n",
      " 11  Sport                8048 non-null   object \n",
      " 12  Event                8048 non-null   object \n",
      " 13  Medal                8048 non-null   object \n",
      "dtypes: float64(3), int64(1), object(10)\n",
      "memory usage: 880.4+ KB\n"
     ]
    }
   ],
   "source": [
    "df_l.info()"
   ]
  },
  {
   "cell_type": "code",
   "execution_count": 104,
   "metadata": {},
   "outputs": [],
   "source": [
    "df_l.to_csv(r\"..\\Raw\\athlete_events-cleaned.csv\", index=False)"
   ]
  }
 ],
 "metadata": {
  "kernelspec": {
   "display_name": "Python 3",
   "language": "python",
   "name": "python3"
  },
  "language_info": {
   "codemirror_mode": {
    "name": "ipython",
    "version": 3
   },
   "file_extension": ".py",
   "mimetype": "text/x-python",
   "name": "python",
   "nbconvert_exporter": "python",
   "pygments_lexer": "ipython3",
   "version": "3.13.1"
  }
 },
 "nbformat": 4,
 "nbformat_minor": 2
}
